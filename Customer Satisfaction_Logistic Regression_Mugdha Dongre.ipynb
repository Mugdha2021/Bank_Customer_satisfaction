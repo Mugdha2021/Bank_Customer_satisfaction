{
 "cells": [
  {
   "cell_type": "markdown",
   "metadata": {},
   "source": [
    "## ML1 Customer Satisfaction\n",
    "\n",
    "### Submitted by: Mugdha Dongre\n",
    "###               Date : 27.09.2021"
   ]
  },
  {
   "cell_type": "markdown",
   "metadata": {},
   "source": [
    "## Table of Content\n",
    "\n",
    "1. [Introduction](#section1)<br>\n",
    "2. [Problem Statement](#section2)<br>\n",
    "3. [Data Description](#section3)<br>\n",
    "4. [Installing Libraries](#section4)<br>\n",
    "    - 4.1 [Installing Libraries](#section401)<br>\n",
    "    - 4.2 [Importing Libraries](#section402)<br>\n",
    "5. [Data Acquisition ](#section5)<br>\n",
    "    - 5.1 [Data Description](#section501)<br>\n",
    "    - 5.2 [Data Information](#section502)<br>\n",
    "6. [Data Pre-processing](#section6)<br>\n",
    "    - 6.1 [Pre-profiling Report](#section601)<br>\n",
    "7. [Exploratory Data Analysis](#section7)<br>\n",
    "    - 7.1 [Analysis of Features ](#section701)<br>\n",
    "8. [Data Post-processing](#section8)<br>\n",
    "    - 8.1 [Handling Categorical columns](#section801)<br>\n",
    "    - 8.2 [Feature Extraction & model selection](#section802)<br>\n",
    "    - 8.3 [Logistic Regression](#section803)<br>\n",
    "9. [Analysis of Test dataset](#section9)<br>\n",
    "    - 9.1 [Label Encoding for Categorical columns (Test dataset)](#section901)<br>\n",
    "    - 9.2 [Prediction of Revenue_Grid](#section902)<br>\n",
    "    - 9.3 [Preparing Submission file](#section903)<br>\n",
    "    - 9.4 [Saving Excel file](#section904)<br>"
   ]
  },
  {
   "cell_type": "markdown",
   "metadata": {},
   "source": [
    "<a name = section1></a>\n",
    "## 1. Introduction\n",
    "\n",
    "### AE Corp \n",
    "Your client for this project is a retail banking institution.\n",
    "\n",
    "They are going to float a stock trading facility for their existing customers.\n",
    "The idea is to use data to classify whether a customer belongs to a high net worth or low net worth group.\n",
    "They will have to incentivize their customers to adopt their offerings.\n",
    "One way to incentivize is to offer discounts on the commission for trading transactions.\n",
    "\n",
    "### Current Scenario\n",
    "The company rolled out this service to about 10,000+ of its customers and observed their trading behavior for 6 months and after that, they labeled them into two revenue grids 1 and 2."
   ]
  },
  {
   "cell_type": "markdown",
   "metadata": {},
   "source": [
    "<a name = section2></a>\n",
    "## 2. Problem Definition\n",
    "\n",
    "The current process suffers from the following problems:\n",
    "\n",
    "One issue is that only about 10% of the customers do enough trades for earnings after discounts to be profitable.\n",
    "The company wants to figure out, which are those 10% customers so that it can selectively offer them a discount.\n",
    "\n",
    "The marketing department has hired you as a data science consultant because they want to supplement their campaigns with a more proactive approach.\n",
    "\n",
    "### Your Role\n",
    "You are given datasets of past customers and their status (Revenue Grid 1 or 2).\n",
    "Your task is **to build a classification model using the datasets.**\n",
    "Because there was no machine learning model for this problem in the company, you don’t have a quantifiable win condition. You need to build the best possible model.\n",
    "\n",
    "### Project Deliverables\n",
    " - Deliverable: **Predict whether a customer belongs to a high net worth or low net worth group.**\n",
    " - Machine Learning Task: **Classification**\n",
    " - Target Variable: **Status (high net worth (1) / low net worth (2))**\n",
    " - Win Condition: **N/A (best possible model)**\n",
    "\n",
    "### Evaluation Metric\n",
    "The model evaluation will be based on the **F1 Score** score."
   ]
  },
  {
   "cell_type": "markdown",
   "metadata": {},
   "source": [
    "<a name = section3></a>\n",
    "## 3. Data Description\n",
    "\n",
    "This step provides an in-depth description of the dataset associated with this project.\n",
    "\n",
    "We are provided with a dataset containing all the necessary information about the customers like their occupation, family income, gender, region, balance transfer, children, etc.\n",
    "\n",
    "Also included in the dataset is the column Revenue_Grid which classifies the customers into high net worth customers (1) and low net worth customers (2).\n",
    "\n",
    "This is the data that we have to predict for future customers.\n",
    "\n",
    "\n",
    "The dataset is divided into two parts: Train, and Test sets.\n",
    "\n",
    "**Train Set:**\n",
    "- The train set contains **8124 rows and 32 columns.**\n",
    "- The last column **Revenue_Grid is the target variable.**\n",
    "\n",
    "**Test Set:**\n",
    "- The test set contains **2031 rows and 31 columns.**\n",
    "- The test set doesn’t contain the Revenue_Grid column.\n",
    "- It needs to be predicted for the test set\n",
    "\n",
    " |****ID****|****Column Name****|****Description****|\n",
    "|:--|:--|:--|\n",
    "|01| REF_NO      | Reference Number of the customer|\n",
    "|02| children          | Number of children each customer has|  \n",
    "|03| Age_band   | Age Group to which the customer belongs| \n",
    "|04| status         | Marital Status of the customer|   \n",
    "|05| occupation      | Job or profession of the customer |\n",
    "|06| occupation_partner | Job or profession of the customer's partner|\n",
    "|07| home_status    | Home Status of the customers|\n",
    "|08| family_income   | Income Range of the customer's family|\n",
    "|09| self_employed |Whether self-employed or not |\n",
    "|10| self_employed_partner  |Whether the partner self-employed or not. |\n",
    "|11|  year_last_moved   |Moving Year from the last location of the customer |\n",
    "|12| TVarea|Television Region of the customer  |\n",
    "|13| post_code     | Postal Code of the customer|\n",
    "|14| post_area    |Postal Area of the customer |\n",
    "|15| Average_Credit_Card_Transaction | Average Credit Card Transaction per year by the customer|\n",
    "|16| Balance_Transfer    |Transfer of the Balance in an account to another account by the customer |\n",
    "|17| Term_Deposit| Cash Investment Help at Financial Institute provided to the customer|\n",
    "|18| Life_Insurance  |Basic Life Insurance Coverage of the customer|\n",
    "|19| Medical_Insurance  |Medical Insurance Coverage of the customer|\n",
    "|20| Average_A/C_Balance    |Average Balance in the account of the customer|\n",
    "|21|  Personal_Loan    |Amount of Personal Loan taken by the customer|\n",
    "|22| Investment_in_Mutual_Fund    | Amount Invested in Mutual Funds by the customer|\n",
    "|23| Investment_Tax_Saving_Bond |Amount Invested in Tax Saving Bond by the customer |\n",
    "|24|  Home_Loan   |Amount of Home Loan taken by the customer |\n",
    "|25|Online_Purchase_Amount |Amount spent by the customer on online purchases |\n",
    "|26| gender  |Gender of the customer|\n",
    "|27| region  |Religion of the customer|\n",
    "|28| Investment_in_Commudity    |Amount Invested in Commodity by the customer|\n",
    "|29| Investment_in_Equity    |Amount Invested in Equity by the customer|\n",
    "|30|  Investment_in_Derivative   |Amount Invested in Derivatives by the customer |\n",
    "|31| Portfolio_Balance |Balanced Investment Strategy of the customer |\n",
    "|32| Revenue_Grid |Grid report of the customers |"
   ]
  },
  {
   "cell_type": "markdown",
   "metadata": {},
   "source": [
    "<a name = section4></a>\n",
    "## 4. Installing & Importing Libraries\n",
    "\n",
    "- This section is emphasised on installing and importing the necessary libraries that will be required."
   ]
  },
  {
   "cell_type": "markdown",
   "metadata": {},
   "source": [
    "<a name = section401></a>\n",
    "### 4.1 Installing Libraries"
   ]
  },
  {
   "cell_type": "code",
   "execution_count": 1,
   "metadata": {},
   "outputs": [
    {
     "name": "stderr",
     "output_type": "stream",
     "text": [
      "ERROR: Invalid requirement: '#'\n",
      "ERROR: Invalid requirement: '#'\n"
     ]
    }
   ],
   "source": [
    "!pip install -q datascience                                         # Package that is required by pandas profiling\n",
    "!pip install -q pandas-profiling                                    # Library to generate basic statistics about data"
   ]
  },
  {
   "cell_type": "markdown",
   "metadata": {},
   "source": [
    "<a name = section402></a>\n",
    "### 4.2 Importing Libraries"
   ]
  },
  {
   "cell_type": "code",
   "execution_count": 2,
   "metadata": {},
   "outputs": [],
   "source": [
    "#-------------------------------------------------------------------------------------------------------------------------------\n",
    "import pandas as pd                                                 # Importing package pandas (For Panel Data Analysis)\n",
    "from pandas_profiling import ProfileReport                          # Import Pandas Profiling (To generate Univariate Analysis)\n",
    "#-------------------------------------------------------------------------------------------------------------------------------\n",
    "import warnings\n",
    "warnings.filterwarnings('ignore')\n",
    "import numpy as np                                                  # Importing package numpys (For Numerical Python)\n",
    "#-------------------------------------------------------------------------------------------------------------------------------\n",
    "import matplotlib\n",
    "import matplotlib.pyplot as plt                                     # Importing pyplot interface to use matplotlib\n",
    "import seaborn as sns                                             # Importing seaborn library for interactive visualization\n",
    "%matplotlib inline\n",
    "#-------------------------------------------------------------------------------------------------------------------------------\n",
    "import scipy as sp                                                  # Importing library for scientific calculations\n",
    "#-------------------------------------------------------------------------------------------------------------------------------"
   ]
  },
  {
   "cell_type": "markdown",
   "metadata": {},
   "source": [
    "<a name = section5></a>\n",
    "## 5. Data Acquisition\n",
    "\n",
    "- This section is emphasised on the accquiring the data and obtain some descriptive information out of it.\n",
    "\n",
    "- You could either scrap the data and then continue, or use a direct source of link (generally preferred in most cases).\n",
    "\n",
    "- You will be working with a direct source of link to head start your work without worrying about anything.\n",
    "\n",
    "- Before going further you must have a good idea about the features of the data set:"
   ]
  },
  {
   "cell_type": "code",
   "execution_count": 3,
   "metadata": {},
   "outputs": [
    {
     "name": "stdout",
     "output_type": "stream",
     "text": [
      "Data Shape :  (8124, 32)\n"
     ]
    },
    {
     "data": {
      "text/html": [
       "<div>\n",
       "<style scoped>\n",
       "    .dataframe tbody tr th:only-of-type {\n",
       "        vertical-align: middle;\n",
       "    }\n",
       "\n",
       "    .dataframe tbody tr th {\n",
       "        vertical-align: top;\n",
       "    }\n",
       "\n",
       "    .dataframe thead th {\n",
       "        text-align: right;\n",
       "    }\n",
       "</style>\n",
       "<table border=\"1\" class=\"dataframe\">\n",
       "  <thead>\n",
       "    <tr style=\"text-align: right;\">\n",
       "      <th></th>\n",
       "      <th>REF_NO</th>\n",
       "      <th>children</th>\n",
       "      <th>age_band</th>\n",
       "      <th>status</th>\n",
       "      <th>occupation</th>\n",
       "      <th>occupation_partner</th>\n",
       "      <th>home_status</th>\n",
       "      <th>family_income</th>\n",
       "      <th>self_employed</th>\n",
       "      <th>self_employed_partner</th>\n",
       "      <th>...</th>\n",
       "      <th>Investment_Tax_Saving_Bond</th>\n",
       "      <th>Home_Loan</th>\n",
       "      <th>Online_Purchase_Amount</th>\n",
       "      <th>gender</th>\n",
       "      <th>region</th>\n",
       "      <th>Investment_in_Commudity</th>\n",
       "      <th>Investment_in_Equity</th>\n",
       "      <th>Investment_in_Derivative</th>\n",
       "      <th>Portfolio_Balance</th>\n",
       "      <th>Revenue_Grid</th>\n",
       "    </tr>\n",
       "  </thead>\n",
       "  <tbody>\n",
       "    <tr>\n",
       "      <th>0</th>\n",
       "      <td>5466</td>\n",
       "      <td>2</td>\n",
       "      <td>31-35</td>\n",
       "      <td>Partner</td>\n",
       "      <td>Professional</td>\n",
       "      <td>Professional</td>\n",
       "      <td>Own Home</td>\n",
       "      <td>&gt;=35,000</td>\n",
       "      <td>No</td>\n",
       "      <td>No</td>\n",
       "      <td>...</td>\n",
       "      <td>8.98</td>\n",
       "      <td>55.44</td>\n",
       "      <td>7.68</td>\n",
       "      <td>Female</td>\n",
       "      <td>North West</td>\n",
       "      <td>151.55</td>\n",
       "      <td>81.79</td>\n",
       "      <td>136.02</td>\n",
       "      <td>360.37</td>\n",
       "      <td>2</td>\n",
       "    </tr>\n",
       "    <tr>\n",
       "      <th>1</th>\n",
       "      <td>9091</td>\n",
       "      <td>Zero</td>\n",
       "      <td>45-50</td>\n",
       "      <td>Partner</td>\n",
       "      <td>Secretarial/Admin</td>\n",
       "      <td>Professional</td>\n",
       "      <td>Own Home</td>\n",
       "      <td>&gt;=35,000</td>\n",
       "      <td>No</td>\n",
       "      <td>No</td>\n",
       "      <td>...</td>\n",
       "      <td>0.00</td>\n",
       "      <td>0.00</td>\n",
       "      <td>18.99</td>\n",
       "      <td>Female</td>\n",
       "      <td>North West</td>\n",
       "      <td>44.28</td>\n",
       "      <td>13.91</td>\n",
       "      <td>29.23</td>\n",
       "      <td>89.22</td>\n",
       "      <td>2</td>\n",
       "    </tr>\n",
       "    <tr>\n",
       "      <th>2</th>\n",
       "      <td>9744</td>\n",
       "      <td>1</td>\n",
       "      <td>36-40</td>\n",
       "      <td>Partner</td>\n",
       "      <td>Manual Worker</td>\n",
       "      <td>Manual Worker</td>\n",
       "      <td>Rent Privately</td>\n",
       "      <td>&lt;22,500, &gt;=20,000</td>\n",
       "      <td>Yes</td>\n",
       "      <td>Yes</td>\n",
       "      <td>...</td>\n",
       "      <td>0.00</td>\n",
       "      <td>0.00</td>\n",
       "      <td>0.00</td>\n",
       "      <td>Female</td>\n",
       "      <td>South West</td>\n",
       "      <td>8.58</td>\n",
       "      <td>1.75</td>\n",
       "      <td>4.82</td>\n",
       "      <td>14.50</td>\n",
       "      <td>2</td>\n",
       "    </tr>\n",
       "    <tr>\n",
       "      <th>3</th>\n",
       "      <td>10700</td>\n",
       "      <td>2</td>\n",
       "      <td>31-35</td>\n",
       "      <td>Partner</td>\n",
       "      <td>Manual Worker</td>\n",
       "      <td>Manual Worker</td>\n",
       "      <td>Own Home</td>\n",
       "      <td>&lt;25,000, &gt;=22,500</td>\n",
       "      <td>No</td>\n",
       "      <td>No</td>\n",
       "      <td>...</td>\n",
       "      <td>0.00</td>\n",
       "      <td>0.00</td>\n",
       "      <td>0.00</td>\n",
       "      <td>Female</td>\n",
       "      <td>Scotland</td>\n",
       "      <td>15.00</td>\n",
       "      <td>0.00</td>\n",
       "      <td>5.00</td>\n",
       "      <td>68.98</td>\n",
       "      <td>2</td>\n",
       "    </tr>\n",
       "    <tr>\n",
       "      <th>4</th>\n",
       "      <td>1987</td>\n",
       "      <td>Zero</td>\n",
       "      <td>55-60</td>\n",
       "      <td>Partner</td>\n",
       "      <td>Housewife</td>\n",
       "      <td>Professional</td>\n",
       "      <td>Own Home</td>\n",
       "      <td>&gt;=35,000</td>\n",
       "      <td>No</td>\n",
       "      <td>No</td>\n",
       "      <td>...</td>\n",
       "      <td>0.00</td>\n",
       "      <td>0.00</td>\n",
       "      <td>0.00</td>\n",
       "      <td>Female</td>\n",
       "      <td>Unknown</td>\n",
       "      <td>0.00</td>\n",
       "      <td>1.66</td>\n",
       "      <td>1.66</td>\n",
       "      <td>1.88</td>\n",
       "      <td>2</td>\n",
       "    </tr>\n",
       "  </tbody>\n",
       "</table>\n",
       "<p>5 rows × 32 columns</p>\n",
       "</div>"
      ],
      "text/plain": [
       "   REF_NO children age_band   status         occupation occupation_partner  \\\n",
       "0    5466        2    31-35  Partner       Professional       Professional   \n",
       "1    9091     Zero    45-50  Partner  Secretarial/Admin       Professional   \n",
       "2    9744        1    36-40  Partner      Manual Worker      Manual Worker   \n",
       "3   10700        2    31-35  Partner      Manual Worker      Manual Worker   \n",
       "4    1987     Zero    55-60  Partner          Housewife       Professional   \n",
       "\n",
       "      home_status      family_income self_employed self_employed_partner  ...  \\\n",
       "0        Own Home           >=35,000            No                    No  ...   \n",
       "1        Own Home           >=35,000            No                    No  ...   \n",
       "2  Rent Privately  <22,500, >=20,000           Yes                   Yes  ...   \n",
       "3        Own Home  <25,000, >=22,500            No                    No  ...   \n",
       "4        Own Home           >=35,000            No                    No  ...   \n",
       "\n",
       "   Investment_Tax_Saving_Bond Home_Loan Online_Purchase_Amount  gender  \\\n",
       "0                        8.98     55.44                   7.68  Female   \n",
       "1                        0.00      0.00                  18.99  Female   \n",
       "2                        0.00      0.00                   0.00  Female   \n",
       "3                        0.00      0.00                   0.00  Female   \n",
       "4                        0.00      0.00                   0.00  Female   \n",
       "\n",
       "       region  Investment_in_Commudity  Investment_in_Equity  \\\n",
       "0  North West                   151.55                 81.79   \n",
       "1  North West                    44.28                 13.91   \n",
       "2  South West                     8.58                  1.75   \n",
       "3    Scotland                    15.00                  0.00   \n",
       "4     Unknown                     0.00                  1.66   \n",
       "\n",
       "   Investment_in_Derivative  Portfolio_Balance  Revenue_Grid  \n",
       "0                    136.02             360.37             2  \n",
       "1                     29.23              89.22             2  \n",
       "2                      4.82              14.50             2  \n",
       "3                      5.00              68.98             2  \n",
       "4                      1.66               1.88             2  \n",
       "\n",
       "[5 rows x 32 columns]"
      ]
     },
     "execution_count": 3,
     "metadata": {},
     "output_type": "execute_result"
    }
   ],
   "source": [
    "# Loading the existing base train dataset\n",
    "data = pd.read_csv(r'E:\\INSAID Projects\\Customer Satisfaction_ML1\\existing_base_train.csv')\n",
    "print('Data Shape : ', data.shape)\n",
    "data.head()"
   ]
  },
  {
   "cell_type": "markdown",
   "metadata": {},
   "source": [
    "<a name = section501></a>\n",
    "### 5.1 Data Description\n",
    "\n",
    "- To get some quick description out of the data you can use describe method defined in pandas library.\n",
    "- Gives the 5-Point or 5-Number summary and other details such as Count, Mean and Standard Deviation of the data-set\n"
   ]
  },
  {
   "cell_type": "code",
   "execution_count": 4,
   "metadata": {},
   "outputs": [
    {
     "data": {
      "text/html": [
       "<div>\n",
       "<style scoped>\n",
       "    .dataframe tbody tr th:only-of-type {\n",
       "        vertical-align: middle;\n",
       "    }\n",
       "\n",
       "    .dataframe tbody tr th {\n",
       "        vertical-align: top;\n",
       "    }\n",
       "\n",
       "    .dataframe thead th {\n",
       "        text-align: right;\n",
       "    }\n",
       "</style>\n",
       "<table border=\"1\" class=\"dataframe\">\n",
       "  <thead>\n",
       "    <tr style=\"text-align: right;\">\n",
       "      <th></th>\n",
       "      <th>REF_NO</th>\n",
       "      <th>year_last_moved</th>\n",
       "      <th>Average_Credit_Card_Transaction</th>\n",
       "      <th>Balance_Transfer</th>\n",
       "      <th>Term_Deposit</th>\n",
       "      <th>Life_Insurance</th>\n",
       "      <th>Medical_Insurance</th>\n",
       "      <th>Average_A/C_Balance</th>\n",
       "      <th>Personal_Loan</th>\n",
       "      <th>Investment_in_Mutual_Fund</th>\n",
       "      <th>Investment_Tax_Saving_Bond</th>\n",
       "      <th>Home_Loan</th>\n",
       "      <th>Online_Purchase_Amount</th>\n",
       "      <th>Investment_in_Commudity</th>\n",
       "      <th>Investment_in_Equity</th>\n",
       "      <th>Investment_in_Derivative</th>\n",
       "      <th>Portfolio_Balance</th>\n",
       "      <th>Revenue_Grid</th>\n",
       "    </tr>\n",
       "  </thead>\n",
       "  <tbody>\n",
       "    <tr>\n",
       "      <th>count</th>\n",
       "      <td>8124.000000</td>\n",
       "      <td>8124.000000</td>\n",
       "      <td>8124.000000</td>\n",
       "      <td>8124.000000</td>\n",
       "      <td>8124.000000</td>\n",
       "      <td>8124.000000</td>\n",
       "      <td>8124.000000</td>\n",
       "      <td>8124.000000</td>\n",
       "      <td>8124.00000</td>\n",
       "      <td>8124.000000</td>\n",
       "      <td>8124.000000</td>\n",
       "      <td>8124.000000</td>\n",
       "      <td>8124.000000</td>\n",
       "      <td>8124.000000</td>\n",
       "      <td>8124.000000</td>\n",
       "      <td>8124.000000</td>\n",
       "      <td>8124.000000</td>\n",
       "      <td>8124.000000</td>\n",
       "    </tr>\n",
       "    <tr>\n",
       "      <th>mean</th>\n",
       "      <td>5797.343304</td>\n",
       "      <td>1967.876908</td>\n",
       "      <td>23.251094</td>\n",
       "      <td>46.082922</td>\n",
       "      <td>27.284649</td>\n",
       "      <td>65.317939</td>\n",
       "      <td>18.826195</td>\n",
       "      <td>31.838023</td>\n",
       "      <td>25.41583</td>\n",
       "      <td>41.723628</td>\n",
       "      <td>6.057246</td>\n",
       "      <td>4.416914</td>\n",
       "      <td>19.198658</td>\n",
       "      <td>36.152749</td>\n",
       "      <td>21.442475</td>\n",
       "      <td>31.530652</td>\n",
       "      <td>89.353368</td>\n",
       "      <td>1.894141</td>\n",
       "    </tr>\n",
       "    <tr>\n",
       "      <th>std</th>\n",
       "      <td>3322.497568</td>\n",
       "      <td>182.563785</td>\n",
       "      <td>51.147496</td>\n",
       "      <td>79.084692</td>\n",
       "      <td>54.133537</td>\n",
       "      <td>95.762451</td>\n",
       "      <td>32.022332</td>\n",
       "      <td>45.249440</td>\n",
       "      <td>85.13015</td>\n",
       "      <td>64.416023</td>\n",
       "      <td>12.673374</td>\n",
       "      <td>9.945747</td>\n",
       "      <td>92.343126</td>\n",
       "      <td>42.474953</td>\n",
       "      <td>32.261660</td>\n",
       "      <td>39.480660</td>\n",
       "      <td>108.303538</td>\n",
       "      <td>0.307676</td>\n",
       "    </tr>\n",
       "    <tr>\n",
       "      <th>min</th>\n",
       "      <td>2.000000</td>\n",
       "      <td>0.000000</td>\n",
       "      <td>0.000000</td>\n",
       "      <td>0.000000</td>\n",
       "      <td>0.000000</td>\n",
       "      <td>0.000000</td>\n",
       "      <td>0.000000</td>\n",
       "      <td>0.000000</td>\n",
       "      <td>0.00000</td>\n",
       "      <td>0.000000</td>\n",
       "      <td>0.000000</td>\n",
       "      <td>0.000000</td>\n",
       "      <td>0.000000</td>\n",
       "      <td>0.000000</td>\n",
       "      <td>0.000000</td>\n",
       "      <td>0.000000</td>\n",
       "      <td>-78.430000</td>\n",
       "      <td>1.000000</td>\n",
       "    </tr>\n",
       "    <tr>\n",
       "      <th>25%</th>\n",
       "      <td>2924.750000</td>\n",
       "      <td>1978.000000</td>\n",
       "      <td>0.000000</td>\n",
       "      <td>0.000000</td>\n",
       "      <td>0.000000</td>\n",
       "      <td>0.000000</td>\n",
       "      <td>0.000000</td>\n",
       "      <td>0.000000</td>\n",
       "      <td>0.00000</td>\n",
       "      <td>0.000000</td>\n",
       "      <td>0.000000</td>\n",
       "      <td>0.000000</td>\n",
       "      <td>0.000000</td>\n",
       "      <td>8.282500</td>\n",
       "      <td>4.660000</td>\n",
       "      <td>8.740000</td>\n",
       "      <td>26.277500</td>\n",
       "      <td>2.000000</td>\n",
       "    </tr>\n",
       "    <tr>\n",
       "      <th>50%</th>\n",
       "      <td>5811.500000</td>\n",
       "      <td>1988.000000</td>\n",
       "      <td>0.000000</td>\n",
       "      <td>17.485000</td>\n",
       "      <td>0.000000</td>\n",
       "      <td>31.475000</td>\n",
       "      <td>0.010000</td>\n",
       "      <td>14.980000</td>\n",
       "      <td>0.00000</td>\n",
       "      <td>23.480000</td>\n",
       "      <td>0.000000</td>\n",
       "      <td>0.000000</td>\n",
       "      <td>0.000000</td>\n",
       "      <td>23.590000</td>\n",
       "      <td>12.820000</td>\n",
       "      <td>21.140000</td>\n",
       "      <td>65.560000</td>\n",
       "      <td>2.000000</td>\n",
       "    </tr>\n",
       "    <tr>\n",
       "      <th>75%</th>\n",
       "      <td>8681.500000</td>\n",
       "      <td>1994.000000</td>\n",
       "      <td>23.480000</td>\n",
       "      <td>64.990000</td>\n",
       "      <td>34.490000</td>\n",
       "      <td>92.887500</td>\n",
       "      <td>26.970000</td>\n",
       "      <td>45.922500</td>\n",
       "      <td>20.82750</td>\n",
       "      <td>59.440000</td>\n",
       "      <td>5.490000</td>\n",
       "      <td>4.490000</td>\n",
       "      <td>7.480000</td>\n",
       "      <td>49.795000</td>\n",
       "      <td>27.972500</td>\n",
       "      <td>42.392500</td>\n",
       "      <td>123.970000</td>\n",
       "      <td>2.000000</td>\n",
       "    </tr>\n",
       "    <tr>\n",
       "      <th>max</th>\n",
       "      <td>11518.000000</td>\n",
       "      <td>1999.000000</td>\n",
       "      <td>662.260000</td>\n",
       "      <td>2951.760000</td>\n",
       "      <td>784.820000</td>\n",
       "      <td>2930.410000</td>\n",
       "      <td>591.040000</td>\n",
       "      <td>626.240000</td>\n",
       "      <td>4905.93000</td>\n",
       "      <td>2561.270000</td>\n",
       "      <td>156.870000</td>\n",
       "      <td>162.350000</td>\n",
       "      <td>4306.420000</td>\n",
       "      <td>1231.090000</td>\n",
       "      <td>1279.100000</td>\n",
       "      <td>1771.160000</td>\n",
       "      <td>4283.560000</td>\n",
       "      <td>2.000000</td>\n",
       "    </tr>\n",
       "  </tbody>\n",
       "</table>\n",
       "</div>"
      ],
      "text/plain": [
       "             REF_NO  year_last_moved  Average_Credit_Card_Transaction  \\\n",
       "count   8124.000000      8124.000000                      8124.000000   \n",
       "mean    5797.343304      1967.876908                        23.251094   \n",
       "std     3322.497568       182.563785                        51.147496   \n",
       "min        2.000000         0.000000                         0.000000   \n",
       "25%     2924.750000      1978.000000                         0.000000   \n",
       "50%     5811.500000      1988.000000                         0.000000   \n",
       "75%     8681.500000      1994.000000                        23.480000   \n",
       "max    11518.000000      1999.000000                       662.260000   \n",
       "\n",
       "       Balance_Transfer  Term_Deposit  Life_Insurance  Medical_Insurance  \\\n",
       "count       8124.000000   8124.000000     8124.000000        8124.000000   \n",
       "mean          46.082922     27.284649       65.317939          18.826195   \n",
       "std           79.084692     54.133537       95.762451          32.022332   \n",
       "min            0.000000      0.000000        0.000000           0.000000   \n",
       "25%            0.000000      0.000000        0.000000           0.000000   \n",
       "50%           17.485000      0.000000       31.475000           0.010000   \n",
       "75%           64.990000     34.490000       92.887500          26.970000   \n",
       "max         2951.760000    784.820000     2930.410000         591.040000   \n",
       "\n",
       "       Average_A/C_Balance  Personal_Loan  Investment_in_Mutual_Fund  \\\n",
       "count          8124.000000     8124.00000                8124.000000   \n",
       "mean             31.838023       25.41583                  41.723628   \n",
       "std              45.249440       85.13015                  64.416023   \n",
       "min               0.000000        0.00000                   0.000000   \n",
       "25%               0.000000        0.00000                   0.000000   \n",
       "50%              14.980000        0.00000                  23.480000   \n",
       "75%              45.922500       20.82750                  59.440000   \n",
       "max             626.240000     4905.93000                2561.270000   \n",
       "\n",
       "       Investment_Tax_Saving_Bond    Home_Loan  Online_Purchase_Amount  \\\n",
       "count                 8124.000000  8124.000000             8124.000000   \n",
       "mean                     6.057246     4.416914               19.198658   \n",
       "std                     12.673374     9.945747               92.343126   \n",
       "min                      0.000000     0.000000                0.000000   \n",
       "25%                      0.000000     0.000000                0.000000   \n",
       "50%                      0.000000     0.000000                0.000000   \n",
       "75%                      5.490000     4.490000                7.480000   \n",
       "max                    156.870000   162.350000             4306.420000   \n",
       "\n",
       "       Investment_in_Commudity  Investment_in_Equity  \\\n",
       "count              8124.000000           8124.000000   \n",
       "mean                 36.152749             21.442475   \n",
       "std                  42.474953             32.261660   \n",
       "min                   0.000000              0.000000   \n",
       "25%                   8.282500              4.660000   \n",
       "50%                  23.590000             12.820000   \n",
       "75%                  49.795000             27.972500   \n",
       "max                1231.090000           1279.100000   \n",
       "\n",
       "       Investment_in_Derivative  Portfolio_Balance  Revenue_Grid  \n",
       "count               8124.000000        8124.000000   8124.000000  \n",
       "mean                  31.530652          89.353368      1.894141  \n",
       "std                   39.480660         108.303538      0.307676  \n",
       "min                    0.000000         -78.430000      1.000000  \n",
       "25%                    8.740000          26.277500      2.000000  \n",
       "50%                   21.140000          65.560000      2.000000  \n",
       "75%                   42.392500         123.970000      2.000000  \n",
       "max                 1771.160000        4283.560000      2.000000  "
      ]
     },
     "execution_count": 4,
     "metadata": {},
     "output_type": "execute_result"
    }
   ],
   "source": [
    "data.describe()"
   ]
  },
  {
   "cell_type": "markdown",
   "metadata": {},
   "source": [
    "<a name = section502></a>\n",
    "### 5.2 Data Information\n",
    "\n",
    "- Totally there are **32 Columns/Features out of which 18 are NUMERICAL** and the rest are CATEGORICAL?? -Check whether the NUMERICAL Columns have 0s and if they are relevant"
   ]
  },
  {
   "cell_type": "code",
   "execution_count": 5,
   "metadata": {},
   "outputs": [
    {
     "name": "stdout",
     "output_type": "stream",
     "text": [
      "<class 'pandas.core.frame.DataFrame'>\n",
      "RangeIndex: 8124 entries, 0 to 8123\n",
      "Data columns (total 32 columns):\n",
      " #   Column                           Non-Null Count  Dtype  \n",
      "---  ------                           --------------  -----  \n",
      " 0   REF_NO                           8124 non-null   int64  \n",
      " 1   children                         8124 non-null   object \n",
      " 2   age_band                         8124 non-null   object \n",
      " 3   status                           8124 non-null   object \n",
      " 4   occupation                       8124 non-null   object \n",
      " 5   occupation_partner               8124 non-null   object \n",
      " 6   home_status                      8124 non-null   object \n",
      " 7   family_income                    8124 non-null   object \n",
      " 8   self_employed                    8124 non-null   object \n",
      " 9   self_employed_partner            8124 non-null   object \n",
      " 10  year_last_moved                  8124 non-null   int64  \n",
      " 11  TVarea                           8124 non-null   object \n",
      " 12  post_code                        8124 non-null   object \n",
      " 13  post_area                        8124 non-null   object \n",
      " 14  Average_Credit_Card_Transaction  8124 non-null   float64\n",
      " 15  Balance_Transfer                 8124 non-null   float64\n",
      " 16  Term_Deposit                     8124 non-null   float64\n",
      " 17  Life_Insurance                   8124 non-null   float64\n",
      " 18  Medical_Insurance                8124 non-null   float64\n",
      " 19  Average_A/C_Balance              8124 non-null   float64\n",
      " 20  Personal_Loan                    8124 non-null   float64\n",
      " 21  Investment_in_Mutual_Fund        8124 non-null   float64\n",
      " 22  Investment_Tax_Saving_Bond       8124 non-null   float64\n",
      " 23  Home_Loan                        8124 non-null   float64\n",
      " 24  Online_Purchase_Amount           8124 non-null   float64\n",
      " 25  gender                           8124 non-null   object \n",
      " 26  region                           8124 non-null   object \n",
      " 27  Investment_in_Commudity          8124 non-null   float64\n",
      " 28  Investment_in_Equity             8124 non-null   float64\n",
      " 29  Investment_in_Derivative         8124 non-null   float64\n",
      " 30  Portfolio_Balance                8124 non-null   float64\n",
      " 31  Revenue_Grid                     8124 non-null   int64  \n",
      "dtypes: float64(15), int64(3), object(14)\n",
      "memory usage: 2.0+ MB\n"
     ]
    }
   ],
   "source": [
    "data.info()"
   ]
  },
  {
   "cell_type": "markdown",
   "metadata": {},
   "source": [
    "<a name = section6></a>\n",
    "## 6. Data Preporcessing\n",
    "\n",
    "- This section is emphasised on getting a report about the data.\n",
    "\n",
    "- You need to perform pandas profiling and get some observations out of it..\n",
    " "
   ]
  },
  {
   "cell_type": "markdown",
   "metadata": {},
   "source": [
    "<a name = section601></a>\n",
    "### 6.1 Data Preprofiling Report"
   ]
  },
  {
   "cell_type": "code",
   "execution_count": 6,
   "metadata": {},
   "outputs": [
    {
     "data": {
      "application/vnd.jupyter.widget-view+json": {
       "model_id": "39e5d4a300e3450192f41ac0ec7c88ae",
       "version_major": 2,
       "version_minor": 0
      },
      "text/plain": [
       "HBox(children=(HTML(value='Summarize dataset'), FloatProgress(value=0.0, max=40.0), HTML(value='')))"
      ]
     },
     "metadata": {},
     "output_type": "display_data"
    },
    {
     "name": "stdout",
     "output_type": "stream",
     "text": [
      "\n"
     ]
    },
    {
     "data": {
      "application/vnd.jupyter.widget-view+json": {
       "model_id": "9d5be14607c2431eb002af905024949d",
       "version_major": 2,
       "version_minor": 0
      },
      "text/plain": [
       "HBox(children=(HTML(value='Generate report structure'), FloatProgress(value=0.0, max=1.0), HTML(value='')))"
      ]
     },
     "metadata": {},
     "output_type": "display_data"
    },
    {
     "name": "stdout",
     "output_type": "stream",
     "text": [
      "\n"
     ]
    },
    {
     "data": {
      "application/vnd.jupyter.widget-view+json": {
       "model_id": "91097ab37e144e1faa462546edadd737",
       "version_major": 2,
       "version_minor": 0
      },
      "text/plain": [
       "HBox(children=(HTML(value='Render HTML'), FloatProgress(value=0.0, max=1.0), HTML(value='')))"
      ]
     },
     "metadata": {},
     "output_type": "display_data"
    },
    {
     "name": "stdout",
     "output_type": "stream",
     "text": [
      "\n"
     ]
    },
    {
     "data": {
      "application/vnd.jupyter.widget-view+json": {
       "model_id": "9df5f17cc1f74718af85e935bf5efe6d",
       "version_major": 2,
       "version_minor": 0
      },
      "text/plain": [
       "HBox(children=(HTML(value='Export report to file'), FloatProgress(value=0.0, max=1.0), HTML(value='')))"
      ]
     },
     "metadata": {},
     "output_type": "display_data"
    },
    {
     "name": "stdout",
     "output_type": "stream",
     "text": [
      "\n",
      "Pre-Profiling Accomplished!\n"
     ]
    }
   ],
   "source": [
    "profile = ProfileReport(df = data, minimal = True)\n",
    "profile.to_file(output_file = 'customer_satisfaction_prediction_PreProfilingReport.html')\n",
    "print('Pre-Profiling Accomplished!')"
   ]
  },
  {
   "cell_type": "markdown",
   "metadata": {},
   "source": [
    "<a name = section602></a>\n",
    "### 6.2 Data Handling\n",
    "\n",
    "- This section is emphasised on performing data manipulation over unstructured data for further processing and analysis.\n"
   ]
  },
  {
   "cell_type": "markdown",
   "metadata": {},
   "source": [
    "### Duplicated Data (?) "
   ]
  },
  {
   "cell_type": "code",
   "execution_count": 7,
   "metadata": {},
   "outputs": [
    {
     "data": {
      "text/html": [
       "<div>\n",
       "<style scoped>\n",
       "    .dataframe tbody tr th:only-of-type {\n",
       "        vertical-align: middle;\n",
       "    }\n",
       "\n",
       "    .dataframe tbody tr th {\n",
       "        vertical-align: top;\n",
       "    }\n",
       "\n",
       "    .dataframe thead th {\n",
       "        text-align: right;\n",
       "    }\n",
       "</style>\n",
       "<table border=\"1\" class=\"dataframe\">\n",
       "  <thead>\n",
       "    <tr style=\"text-align: right;\">\n",
       "      <th></th>\n",
       "      <th>REF_NO</th>\n",
       "      <th>children</th>\n",
       "      <th>age_band</th>\n",
       "      <th>status</th>\n",
       "      <th>occupation</th>\n",
       "      <th>occupation_partner</th>\n",
       "      <th>home_status</th>\n",
       "      <th>family_income</th>\n",
       "      <th>self_employed</th>\n",
       "      <th>self_employed_partner</th>\n",
       "      <th>...</th>\n",
       "      <th>Investment_Tax_Saving_Bond</th>\n",
       "      <th>Home_Loan</th>\n",
       "      <th>Online_Purchase_Amount</th>\n",
       "      <th>gender</th>\n",
       "      <th>region</th>\n",
       "      <th>Investment_in_Commudity</th>\n",
       "      <th>Investment_in_Equity</th>\n",
       "      <th>Investment_in_Derivative</th>\n",
       "      <th>Portfolio_Balance</th>\n",
       "      <th>Revenue_Grid</th>\n",
       "    </tr>\n",
       "  </thead>\n",
       "  <tbody>\n",
       "  </tbody>\n",
       "</table>\n",
       "<p>0 rows × 32 columns</p>\n",
       "</div>"
      ],
      "text/plain": [
       "Empty DataFrame\n",
       "Columns: [REF_NO, children, age_band, status, occupation, occupation_partner, home_status, family_income, self_employed, self_employed_partner, year_last_moved, TVarea, post_code, post_area, Average_Credit_Card_Transaction, Balance_Transfer, Term_Deposit, Life_Insurance, Medical_Insurance, Average_A/C_Balance, Personal_Loan, Investment_in_Mutual_Fund, Investment_Tax_Saving_Bond, Home_Loan, Online_Purchase_Amount, gender, region, Investment_in_Commudity, Investment_in_Equity, Investment_in_Derivative, Portfolio_Balance, Revenue_Grid]\n",
       "Index: []\n",
       "\n",
       "[0 rows x 32 columns]"
      ]
     },
     "execution_count": 7,
     "metadata": {},
     "output_type": "execute_result"
    }
   ],
   "source": [
    "data[data.duplicated()]"
   ]
  },
  {
   "cell_type": "markdown",
   "metadata": {},
   "source": [
    "### Missing Data (?)"
   ]
  },
  {
   "cell_type": "code",
   "execution_count": 8,
   "metadata": {
    "scrolled": false
   },
   "outputs": [
    {
     "data": {
      "text/plain": [
       "REF_NO                             0\n",
       "children                           0\n",
       "age_band                           0\n",
       "status                             0\n",
       "occupation                         0\n",
       "occupation_partner                 0\n",
       "home_status                        0\n",
       "family_income                      0\n",
       "self_employed                      0\n",
       "self_employed_partner              0\n",
       "year_last_moved                    0\n",
       "TVarea                             0\n",
       "post_code                          0\n",
       "post_area                          0\n",
       "Average_Credit_Card_Transaction    0\n",
       "Balance_Transfer                   0\n",
       "Term_Deposit                       0\n",
       "Life_Insurance                     0\n",
       "Medical_Insurance                  0\n",
       "Average_A/C_Balance                0\n",
       "Personal_Loan                      0\n",
       "Investment_in_Mutual_Fund          0\n",
       "Investment_Tax_Saving_Bond         0\n",
       "Home_Loan                          0\n",
       "Online_Purchase_Amount             0\n",
       "gender                             0\n",
       "region                             0\n",
       "Investment_in_Commudity            0\n",
       "Investment_in_Equity               0\n",
       "Investment_in_Derivative           0\n",
       "Portfolio_Balance                  0\n",
       "Revenue_Grid                       0\n",
       "dtype: int64"
      ]
     },
     "execution_count": 8,
     "metadata": {},
     "output_type": "execute_result"
    }
   ],
   "source": [
    "data.isnull().sum()"
   ]
  },
  {
   "cell_type": "markdown",
   "metadata": {},
   "source": [
    "### Observations: \n",
    " \n",
    " - **No missing and Duplicated Data in the dataset.**\n",
    " - Here, there are '0' values in some columns, but we are not considering that as an outlier. \n",
    " - **'0' values may suggest New customers who have associated with the bank.**\n",
    " - Our **main focus is on Predicting the Revenue grid**, so Data Handling is not given much preference."
   ]
  },
  {
   "cell_type": "markdown",
   "metadata": {},
   "source": [
    "<a name = section7></a>\n",
    "## 7. Exploratory Data Analysis"
   ]
  },
  {
   "cell_type": "markdown",
   "metadata": {},
   "source": [
    "- ###  Maximum personal loan taken by customer"
   ]
  },
  {
   "cell_type": "code",
   "execution_count": 9,
   "metadata": {
    "scrolled": false
   },
   "outputs": [
    {
     "data": {
      "text/plain": [
       "4905.93"
      ]
     },
     "execution_count": 9,
     "metadata": {},
     "output_type": "execute_result"
    }
   ],
   "source": [
    "data['Personal_Loan'].max()"
   ]
  },
  {
   "cell_type": "markdown",
   "metadata": {},
   "source": [
    "- ### Marital Status of Customer"
   ]
  },
  {
   "cell_type": "code",
   "execution_count": 10,
   "metadata": {},
   "outputs": [
    {
     "data": {
      "text/plain": [
       "Text(0.5, 1.0, 'Customer Matital status')"
      ]
     },
     "execution_count": 10,
     "metadata": {},
     "output_type": "execute_result"
    },
    {
     "data": {
      "image/png": "[encoded data removed]",
      "text/plain": [
       "<Figure size 432x288 with 1 Axes>"
      ]
     },
     "metadata": {
      "needs_background": "light"
     },
     "output_type": "display_data"
    }
   ],
   "source": [
    "data.status.value_counts().plot(kind = 'bar')\n",
    "plt.ylabel('Customer Count', size = 14)\n",
    "plt.title('Customer Matital status', size = 16)"
   ]
  },
  {
   "cell_type": "markdown",
   "metadata": {},
   "source": [
    "- ### Gender distribution of Bank Customers"
   ]
  },
  {
   "cell_type": "code",
   "execution_count": 11,
   "metadata": {},
   "outputs": [
    {
     "data": {
      "text/plain": [
       "<AxesSubplot:>"
      ]
     },
     "execution_count": 11,
     "metadata": {},
     "output_type": "execute_result"
    },
    {
     "data": {
      "image/png": "[encoded data removed]",
      "text/plain": [
       "<Figure size 432x288 with 1 Axes>"
      ]
     },
     "metadata": {
      "needs_background": "light"
     },
     "output_type": "display_data"
    }
   ],
   "source": [
    "data.gender.value_counts().plot(kind = 'bar')"
   ]
  },
  {
   "cell_type": "markdown",
   "metadata": {},
   "source": [
    "- ### Customer Occupation having Highest Portfolio Balance"
   ]
  },
  {
   "cell_type": "code",
   "execution_count": 12,
   "metadata": {},
   "outputs": [
    {
     "data": {
      "text/plain": [
       "Text(0.5, 1.0, 'Occupation having highest Portfolio Balance')"
      ]
     },
     "execution_count": 12,
     "metadata": {},
     "output_type": "execute_result"
    },
    {
     "data": {
      "image/png": "[encoded data removed]",
      "text/plain": [
       "<Figure size 864x504 with 1 Axes>"
      ]
     },
     "metadata": {
      "needs_background": "light"
     },
     "output_type": "display_data"
    }
   ],
   "source": [
    "data.groupby('occupation')['Portfolio_Balance'].sum().plot(kind = 'bar', figsize = (12,7))\n",
    "plt.title('Occupation having highest Portfolio Balance', size = 16)"
   ]
  },
  {
   "cell_type": "markdown",
   "metadata": {},
   "source": [
    "- ### Children Count of bank Customers"
   ]
  },
  {
   "cell_type": "code",
   "execution_count": 13,
   "metadata": {},
   "outputs": [
    {
     "data": {
      "text/plain": [
       "Text(0.5, 1.0, 'No. of Children')"
      ]
     },
     "execution_count": 13,
     "metadata": {},
     "output_type": "execute_result"
    },
    {
     "data": {
      "image/png": "[encoded data removed]",
      "text/plain": [
       "<Figure size 432x288 with 1 Axes>"
      ]
     },
     "metadata": {
      "needs_background": "light"
     },
     "output_type": "display_data"
    }
   ],
   "source": [
    "data.children.value_counts().plot(kind = 'bar')\n",
    "plt.ylabel('Customer Count', size = 14)\n",
    "plt.title('No. of Children', size = 16)"
   ]
  },
  {
   "cell_type": "markdown",
   "metadata": {},
   "source": [
    "- ### Age Group of Customers"
   ]
  },
  {
   "cell_type": "code",
   "execution_count": 14,
   "metadata": {},
   "outputs": [
    {
     "data": {
      "text/plain": [
       "Text(0.5, 0, 'Age Group')"
      ]
     },
     "execution_count": 14,
     "metadata": {},
     "output_type": "execute_result"
    },
    {
     "data": {
      "image/png": "[encoded data removed]",
      "text/plain": [
       "<Figure size 432x288 with 1 Axes>"
      ]
     },
     "metadata": {
      "needs_background": "light"
     },
     "output_type": "display_data"
    }
   ],
   "source": [
    "data['age_band'].value_counts().plot(kind='bar')\n",
    "plt.title('Age group of the Customers', size =16)\n",
    "plt.ylabel('Customer Count', size = 14)\n",
    "plt.xlabel('Age Group', size = 14)"
   ]
  },
  {
   "cell_type": "markdown",
   "metadata": {},
   "source": [
    "- ### % Occupation count of customers "
   ]
  },
  {
   "cell_type": "code",
   "execution_count": 15,
   "metadata": {},
   "outputs": [],
   "source": [
    "size = data['occupation'].value_counts()"
   ]
  },
  {
   "cell_type": "code",
   "execution_count": 16,
   "metadata": {},
   "outputs": [
    {
     "data": {
      "text/plain": [
       "Professional         23.990645\n",
       "Retired              22.144264\n",
       "Secretarial/Admin    17.663712\n",
       "Housewife            12.112260\n",
       "Business Manager      7.114722\n",
       "Manual Worker         5.551452\n",
       "Unknown               5.526834\n",
       "Other                 5.317578\n",
       "Student               0.578533\n",
       "Name: occupation, dtype: float64"
      ]
     },
     "execution_count": 16,
     "metadata": {},
     "output_type": "execute_result"
    }
   ],
   "source": [
    "total = size/sum(size)*100\n",
    "total"
   ]
  },
  {
   "cell_type": "code",
   "execution_count": 17,
   "metadata": {},
   "outputs": [
    {
     "data": {
      "image/png": "[encoded data removed]",
      "text/plain": [
       "<Figure size 1440x504 with 1 Axes>"
      ]
     },
     "metadata": {},
     "output_type": "display_data"
    }
   ],
   "source": [
    "label = ['Professional','Retired','Secretarial/Admin','Housewife','Business Manager','Manual Worker','Unknown','Other','Student' ]\n",
    "figure = plt.figure(figsize = (20,7))\n",
    "plt.pie(total ,labels = [round(i,2) for i in (list(total))])\n",
    "plt.legend(label, loc = 'upper right')\n",
    "circle = plt.Circle( (0,0), 0.7, color='white')\n",
    "plt.title('Occupation of the Customers', size = 16)\n",
    "p=plt.gcf()\n",
    "p.gca().add_artist(circle)\n",
    "plt.show()"
   ]
  },
  {
   "cell_type": "markdown",
   "metadata": {},
   "source": [
    "- ### Highest Family Income of Customers"
   ]
  },
  {
   "cell_type": "code",
   "execution_count": 18,
   "metadata": {},
   "outputs": [
    {
     "data": {
      "text/plain": [
       "Text(0, 0.5, 'Income Range')"
      ]
     },
     "execution_count": 18,
     "metadata": {},
     "output_type": "execute_result"
    },
    {
     "data": {
      "image/png": "[encoded data removed]",
      "text/plain": [
       "<Figure size 864x504 with 1 Axes>"
      ]
     },
     "metadata": {
      "needs_background": "light"
     },
     "output_type": "display_data"
    }
   ],
   "source": [
    "figure = plt.figure(figsize = (12,7))\n",
    "data.family_income.value_counts().plot(kind = 'barh')\n",
    "Title = plt.title('Family Income of the Customers', size = 16)\n",
    "plt.xlabel('Customer Count', size = 14)\n",
    "plt.ylabel('Income Range', size = 14)"
   ]
  },
  {
   "cell_type": "markdown",
   "metadata": {},
   "source": [
    "- ### Region of Customers"
   ]
  },
  {
   "cell_type": "code",
   "execution_count": 19,
   "metadata": {
    "scrolled": false
   },
   "outputs": [
    {
     "data": {
      "text/plain": [
       "Text(0.5, 1.0, 'Region area of Customers')"
      ]
     },
     "execution_count": 19,
     "metadata": {},
     "output_type": "execute_result"
    },
    {
     "data": {
      "image/png": "[encoded data removed]",
      "text/plain": [
       "<Figure size 720x504 with 1 Axes>"
      ]
     },
     "metadata": {
      "needs_background": "light"
     },
     "output_type": "display_data"
    }
   ],
   "source": [
    "figure = plt.figure(figsize = (10,7))\n",
    "data.region.value_counts().plot(kind = 'bar')\n",
    "plt.title('Region area of Customers', size = 16)\n"
   ]
  },
  {
   "cell_type": "markdown",
   "metadata": {},
   "source": [
    "<a name = section701></a>\n",
    "### 7.1 Analysis of Features"
   ]
  },
  {
   "cell_type": "code",
   "execution_count": 20,
   "metadata": {
    "scrolled": false
   },
   "outputs": [
    {
     "data": {
      "text/plain": [
       "<seaborn.axisgrid.PairGrid at 0x2d128696a30>"
      ]
     },
     "execution_count": 20,
     "metadata": {},
     "output_type": "execute_result"
    },
    {
     "data": {
      "image/png": "[encoded data removed]",
      "text/plain": [
       "<Figure size 900x900 with 30 Axes>"
      ]
     },
     "metadata": {
      "needs_background": "light"
     },
     "output_type": "display_data"
    }
   ],
   "source": [
    "sns.pairplot(data = data[['Term_Deposit','Personal_Loan', 'Average_Credit_Card_Transaction', 'Online_Purchase_Amount','Portfolio_Balance']])"
   ]
  },
  {
   "cell_type": "code",
   "execution_count": 21,
   "metadata": {
    "scrolled": false
   },
   "outputs": [
    {
     "data": {
      "text/plain": [
       "<AxesSubplot:>"
      ]
     },
     "execution_count": 21,
     "metadata": {},
     "output_type": "execute_result"
    },
    {
     "data": {
      "image/png": "[encoded data removed]",
      "text/plain": [
       "<Figure size 1080x576 with 2 Axes>"
      ]
     },
     "metadata": {
      "needs_background": "light"
     },
     "output_type": "display_data"
    }
   ],
   "source": [
    "figure = plt.figure(figsize = (15,8))\n",
    "sns.heatmap(data.corr(), annot = True, cmap = 'Set1')"
   ]
  },
  {
   "cell_type": "code",
   "execution_count": 22,
   "metadata": {},
   "outputs": [
    {
     "data": {
      "text/plain": [
       "<AxesSubplot:xlabel='Home_Loan', ylabel='Average_A/C_Balance'>"
      ]
     },
     "execution_count": 22,
     "metadata": {},
     "output_type": "execute_result"
    },
    {
     "data": {
      "image/png": "[encoded data removed]",
      "text/plain": [
       "<Figure size 864x504 with 1 Axes>"
      ]
     },
     "metadata": {
      "needs_background": "light"
     },
     "output_type": "display_data"
    }
   ],
   "source": [
    "data.plot.scatter(x = 'Home_Loan', y = 'Average_A/C_Balance', figsize = (12,7))"
   ]
  },
  {
   "cell_type": "code",
   "execution_count": 23,
   "metadata": {},
   "outputs": [
    {
     "data": {
      "text/plain": [
       "<AxesSubplot:xlabel='Portfolio_Balance', ylabel='Investment_in_Derivative'>"
      ]
     },
     "execution_count": 23,
     "metadata": {},
     "output_type": "execute_result"
    },
    {
     "data": {
      "image/png": "[encoded data removed]",
      "text/plain": [
       "<Figure size 720x360 with 1 Axes>"
      ]
     },
     "metadata": {
      "needs_background": "light"
     },
     "output_type": "display_data"
    }
   ],
   "source": [
    "data.plot.scatter(x = 'Portfolio_Balance', y = 'Investment_in_Derivative', figsize = (10,5))"
   ]
  },
  {
   "cell_type": "markdown",
   "metadata": {},
   "source": [
    "### Observations\n",
    "\n",
    "- As shown in Heatmap, Multiple individual columns have high correlation but **no single variable is correlated with Our Target variable (Revenue_Grid).**\n",
    "- Most of the customer's have not taken personal loan."
   ]
  },
  {
   "cell_type": "markdown",
   "metadata": {},
   "source": [
    "<a name = section8></a>\n",
    "## 8. Data Post-processing\n",
    "\n",
    "- **Machine Learning Algorithms** works with only **Numerical data.**\n",
    "- So, let's do **Labelling for all Categorical columns** present in the dataset.  "
   ]
  },
  {
   "cell_type": "markdown",
   "metadata": {},
   "source": [
    "<a name = section801></a>\n",
    "### 8.1 Handling Categorical Columns"
   ]
  },
  {
   "cell_type": "code",
   "execution_count": 24,
   "metadata": {},
   "outputs": [],
   "source": [
    "from sklearn.preprocessing import LabelEncoder"
   ]
  },
  {
   "cell_type": "code",
   "execution_count": 25,
   "metadata": {
    "scrolled": false
   },
   "outputs": [
    {
     "data": {
      "text/plain": [
       "Index(['REF_NO', 'children', 'age_band', 'status', 'occupation',\n",
       "       'occupation_partner', 'home_status', 'family_income', 'self_employed',\n",
       "       'self_employed_partner', 'year_last_moved', 'TVarea', 'post_code',\n",
       "       'post_area', 'Average_Credit_Card_Transaction', 'Balance_Transfer',\n",
       "       'Term_Deposit', 'Life_Insurance', 'Medical_Insurance',\n",
       "       'Average_A/C_Balance', 'Personal_Loan', 'Investment_in_Mutual_Fund',\n",
       "       'Investment_Tax_Saving_Bond', 'Home_Loan', 'Online_Purchase_Amount',\n",
       "       'gender', 'region', 'Investment_in_Commudity', 'Investment_in_Equity',\n",
       "       'Investment_in_Derivative', 'Portfolio_Balance', 'Revenue_Grid'],\n",
       "      dtype='object')"
      ]
     },
     "execution_count": 25,
     "metadata": {},
     "output_type": "execute_result"
    }
   ],
   "source": [
    "data.columns"
   ]
  },
  {
   "cell_type": "code",
   "execution_count": 26,
   "metadata": {},
   "outputs": [
    {
     "name": "stdout",
     "output_type": "stream",
     "text": [
      "<class 'pandas.core.frame.DataFrame'>\n",
      "RangeIndex: 8124 entries, 0 to 8123\n",
      "Data columns (total 32 columns):\n",
      " #   Column                           Non-Null Count  Dtype  \n",
      "---  ------                           --------------  -----  \n",
      " 0   REF_NO                           8124 non-null   int64  \n",
      " 1   children                         8124 non-null   object \n",
      " 2   age_band                         8124 non-null   object \n",
      " 3   status                           8124 non-null   object \n",
      " 4   occupation                       8124 non-null   object \n",
      " 5   occupation_partner               8124 non-null   object \n",
      " 6   home_status                      8124 non-null   object \n",
      " 7   family_income                    8124 non-null   object \n",
      " 8   self_employed                    8124 non-null   object \n",
      " 9   self_employed_partner            8124 non-null   object \n",
      " 10  year_last_moved                  8124 non-null   int64  \n",
      " 11  TVarea                           8124 non-null   object \n",
      " 12  post_code                        8124 non-null   object \n",
      " 13  post_area                        8124 non-null   object \n",
      " 14  Average_Credit_Card_Transaction  8124 non-null   float64\n",
      " 15  Balance_Transfer                 8124 non-null   float64\n",
      " 16  Term_Deposit                     8124 non-null   float64\n",
      " 17  Life_Insurance                   8124 non-null   float64\n",
      " 18  Medical_Insurance                8124 non-null   float64\n",
      " 19  Average_A/C_Balance              8124 non-null   float64\n",
      " 20  Personal_Loan                    8124 non-null   float64\n",
      " 21  Investment_in_Mutual_Fund        8124 non-null   float64\n",
      " 22  Investment_Tax_Saving_Bond       8124 non-null   float64\n",
      " 23  Home_Loan                        8124 non-null   float64\n",
      " 24  Online_Purchase_Amount           8124 non-null   float64\n",
      " 25  gender                           8124 non-null   object \n",
      " 26  region                           8124 non-null   object \n",
      " 27  Investment_in_Commudity          8124 non-null   float64\n",
      " 28  Investment_in_Equity             8124 non-null   float64\n",
      " 29  Investment_in_Derivative         8124 non-null   float64\n",
      " 30  Portfolio_Balance                8124 non-null   float64\n",
      " 31  Revenue_Grid                     8124 non-null   int64  \n",
      "dtypes: float64(15), int64(3), object(14)\n",
      "memory usage: 2.0+ MB\n"
     ]
    }
   ],
   "source": [
    "data.info()"
   ]
  },
  {
   "cell_type": "markdown",
   "metadata": {},
   "source": [
    "### Bifurcating the categorical and numerical columns"
   ]
  },
  {
   "cell_type": "code",
   "execution_count": 27,
   "metadata": {},
   "outputs": [],
   "source": [
    "data_num = data[['REF_NO','year_last_moved','Average_Credit_Card_Transaction','Balance_Transfer',\n",
    "                'Term_Deposit','Life_Insurance', 'Medical_Insurance',\n",
    "                'Average_A/C_Balance', 'Personal_Loan', 'Investment_in_Mutual_Fund',\n",
    "                'Investment_Tax_Saving_Bond', 'Home_Loan', 'Online_Purchase_Amount',\n",
    "                'Investment_in_Commudity', 'Investment_in_Equity',\n",
    "                'Investment_in_Derivative', 'Portfolio_Balance', 'Revenue_Grid']]"
   ]
  },
  {
   "cell_type": "code",
   "execution_count": 28,
   "metadata": {},
   "outputs": [],
   "source": [
    "data_cat = data.drop(['REF_NO','year_last_moved','Average_Credit_Card_Transaction','Balance_Transfer','Term_Deposit',\n",
    "                'Life_Insurance', 'Medical_Insurance','Average_A/C_Balance', 'Personal_Loan', 'Investment_in_Mutual_Fund',\n",
    "                'Investment_Tax_Saving_Bond', 'Home_Loan', 'Online_Purchase_Amount','Investment_in_Commudity', \n",
    "                'Investment_in_Equity','Investment_in_Derivative', 'Portfolio_Balance', 'Revenue_Grid'] , axis = 1 )"
   ]
  },
  {
   "cell_type": "markdown",
   "metadata": {},
   "source": [
    "### Label Encoding to Categorial Columns"
   ]
  },
  {
   "cell_type": "code",
   "execution_count": 29,
   "metadata": {},
   "outputs": [],
   "source": [
    "data_cat = data_cat.apply(LabelEncoder().fit_transform)"
   ]
  },
  {
   "cell_type": "code",
   "execution_count": 30,
   "metadata": {},
   "outputs": [
    {
     "data": {
      "text/html": [
       "<div>\n",
       "<style scoped>\n",
       "    .dataframe tbody tr th:only-of-type {\n",
       "        vertical-align: middle;\n",
       "    }\n",
       "\n",
       "    .dataframe tbody tr th {\n",
       "        vertical-align: top;\n",
       "    }\n",
       "\n",
       "    .dataframe thead th {\n",
       "        text-align: right;\n",
       "    }\n",
       "</style>\n",
       "<table border=\"1\" class=\"dataframe\">\n",
       "  <thead>\n",
       "    <tr style=\"text-align: right;\">\n",
       "      <th></th>\n",
       "      <th>children</th>\n",
       "      <th>age_band</th>\n",
       "      <th>status</th>\n",
       "      <th>occupation</th>\n",
       "      <th>occupation_partner</th>\n",
       "      <th>home_status</th>\n",
       "      <th>family_income</th>\n",
       "      <th>self_employed</th>\n",
       "      <th>self_employed_partner</th>\n",
       "      <th>TVarea</th>\n",
       "      <th>post_code</th>\n",
       "      <th>post_area</th>\n",
       "      <th>gender</th>\n",
       "      <th>region</th>\n",
       "    </tr>\n",
       "  </thead>\n",
       "  <tbody>\n",
       "    <tr>\n",
       "      <th>0</th>\n",
       "      <td>1</td>\n",
       "      <td>3</td>\n",
       "      <td>1</td>\n",
       "      <td>4</td>\n",
       "      <td>4</td>\n",
       "      <td>1</td>\n",
       "      <td>11</td>\n",
       "      <td>0</td>\n",
       "      <td>0</td>\n",
       "      <td>7</td>\n",
       "      <td>4628</td>\n",
       "      <td>1083</td>\n",
       "      <td>0</td>\n",
       "      <td>5</td>\n",
       "    </tr>\n",
       "    <tr>\n",
       "      <th>1</th>\n",
       "      <td>4</td>\n",
       "      <td>6</td>\n",
       "      <td>1</td>\n",
       "      <td>6</td>\n",
       "      <td>4</td>\n",
       "      <td>1</td>\n",
       "      <td>11</td>\n",
       "      <td>0</td>\n",
       "      <td>0</td>\n",
       "      <td>7</td>\n",
       "      <td>3768</td>\n",
       "      <td>930</td>\n",
       "      <td>0</td>\n",
       "      <td>5</td>\n",
       "    </tr>\n",
       "    <tr>\n",
       "      <th>2</th>\n",
       "      <td>0</td>\n",
       "      <td>4</td>\n",
       "      <td>1</td>\n",
       "      <td>2</td>\n",
       "      <td>2</td>\n",
       "      <td>2</td>\n",
       "      <td>7</td>\n",
       "      <td>1</td>\n",
       "      <td>1</td>\n",
       "      <td>6</td>\n",
       "      <td>7044</td>\n",
       "      <td>1686</td>\n",
       "      <td>0</td>\n",
       "      <td>9</td>\n",
       "    </tr>\n",
       "    <tr>\n",
       "      <th>3</th>\n",
       "      <td>1</td>\n",
       "      <td>3</td>\n",
       "      <td>1</td>\n",
       "      <td>2</td>\n",
       "      <td>2</td>\n",
       "      <td>1</td>\n",
       "      <td>8</td>\n",
       "      <td>0</td>\n",
       "      <td>0</td>\n",
       "      <td>8</td>\n",
       "      <td>2439</td>\n",
       "      <td>618</td>\n",
       "      <td>0</td>\n",
       "      <td>7</td>\n",
       "    </tr>\n",
       "    <tr>\n",
       "      <th>4</th>\n",
       "      <td>4</td>\n",
       "      <td>8</td>\n",
       "      <td>1</td>\n",
       "      <td>1</td>\n",
       "      <td>4</td>\n",
       "      <td>1</td>\n",
       "      <td>11</td>\n",
       "      <td>0</td>\n",
       "      <td>0</td>\n",
       "      <td>13</td>\n",
       "      <td>4222</td>\n",
       "      <td>1027</td>\n",
       "      <td>0</td>\n",
       "      <td>10</td>\n",
       "    </tr>\n",
       "    <tr>\n",
       "      <th>...</th>\n",
       "      <td>...</td>\n",
       "      <td>...</td>\n",
       "      <td>...</td>\n",
       "      <td>...</td>\n",
       "      <td>...</td>\n",
       "      <td>...</td>\n",
       "      <td>...</td>\n",
       "      <td>...</td>\n",
       "      <td>...</td>\n",
       "      <td>...</td>\n",
       "      <td>...</td>\n",
       "      <td>...</td>\n",
       "      <td>...</td>\n",
       "      <td>...</td>\n",
       "    </tr>\n",
       "    <tr>\n",
       "      <th>8119</th>\n",
       "      <td>2</td>\n",
       "      <td>4</td>\n",
       "      <td>1</td>\n",
       "      <td>2</td>\n",
       "      <td>1</td>\n",
       "      <td>1</td>\n",
       "      <td>6</td>\n",
       "      <td>0</td>\n",
       "      <td>0</td>\n",
       "      <td>7</td>\n",
       "      <td>3713</td>\n",
       "      <td>922</td>\n",
       "      <td>1</td>\n",
       "      <td>5</td>\n",
       "    </tr>\n",
       "    <tr>\n",
       "      <th>8120</th>\n",
       "      <td>4</td>\n",
       "      <td>9</td>\n",
       "      <td>4</td>\n",
       "      <td>5</td>\n",
       "      <td>8</td>\n",
       "      <td>1</td>\n",
       "      <td>1</td>\n",
       "      <td>0</td>\n",
       "      <td>0</td>\n",
       "      <td>3</td>\n",
       "      <td>1798</td>\n",
       "      <td>448</td>\n",
       "      <td>0</td>\n",
       "      <td>2</td>\n",
       "    </tr>\n",
       "    <tr>\n",
       "      <th>8121</th>\n",
       "      <td>0</td>\n",
       "      <td>5</td>\n",
       "      <td>2</td>\n",
       "      <td>1</td>\n",
       "      <td>8</td>\n",
       "      <td>3</td>\n",
       "      <td>1</td>\n",
       "      <td>0</td>\n",
       "      <td>0</td>\n",
       "      <td>11</td>\n",
       "      <td>860</td>\n",
       "      <td>211</td>\n",
       "      <td>0</td>\n",
       "      <td>6</td>\n",
       "    </tr>\n",
       "    <tr>\n",
       "      <th>8122</th>\n",
       "      <td>4</td>\n",
       "      <td>9</td>\n",
       "      <td>1</td>\n",
       "      <td>5</td>\n",
       "      <td>5</td>\n",
       "      <td>1</td>\n",
       "      <td>0</td>\n",
       "      <td>0</td>\n",
       "      <td>0</td>\n",
       "      <td>7</td>\n",
       "      <td>1437</td>\n",
       "      <td>360</td>\n",
       "      <td>0</td>\n",
       "      <td>8</td>\n",
       "    </tr>\n",
       "    <tr>\n",
       "      <th>8123</th>\n",
       "      <td>2</td>\n",
       "      <td>5</td>\n",
       "      <td>1</td>\n",
       "      <td>0</td>\n",
       "      <td>1</td>\n",
       "      <td>1</td>\n",
       "      <td>8</td>\n",
       "      <td>0</td>\n",
       "      <td>0</td>\n",
       "      <td>10</td>\n",
       "      <td>7326</td>\n",
       "      <td>1778</td>\n",
       "      <td>1</td>\n",
       "      <td>4</td>\n",
       "    </tr>\n",
       "  </tbody>\n",
       "</table>\n",
       "<p>8124 rows × 14 columns</p>\n",
       "</div>"
      ],
      "text/plain": [
       "      children  age_band  status  occupation  occupation_partner  home_status  \\\n",
       "0            1         3       1           4                   4            1   \n",
       "1            4         6       1           6                   4            1   \n",
       "2            0         4       1           2                   2            2   \n",
       "3            1         3       1           2                   2            1   \n",
       "4            4         8       1           1                   4            1   \n",
       "...        ...       ...     ...         ...                 ...          ...   \n",
       "8119         2         4       1           2                   1            1   \n",
       "8120         4         9       4           5                   8            1   \n",
       "8121         0         5       2           1                   8            3   \n",
       "8122         4         9       1           5                   5            1   \n",
       "8123         2         5       1           0                   1            1   \n",
       "\n",
       "      family_income  self_employed  self_employed_partner  TVarea  post_code  \\\n",
       "0                11              0                      0       7       4628   \n",
       "1                11              0                      0       7       3768   \n",
       "2                 7              1                      1       6       7044   \n",
       "3                 8              0                      0       8       2439   \n",
       "4                11              0                      0      13       4222   \n",
       "...             ...            ...                    ...     ...        ...   \n",
       "8119              6              0                      0       7       3713   \n",
       "8120              1              0                      0       3       1798   \n",
       "8121              1              0                      0      11        860   \n",
       "8122              0              0                      0       7       1437   \n",
       "8123              8              0                      0      10       7326   \n",
       "\n",
       "      post_area  gender  region  \n",
       "0          1083       0       5  \n",
       "1           930       0       5  \n",
       "2          1686       0       9  \n",
       "3           618       0       7  \n",
       "4          1027       0      10  \n",
       "...         ...     ...     ...  \n",
       "8119        922       1       5  \n",
       "8120        448       0       2  \n",
       "8121        211       0       6  \n",
       "8122        360       0       8  \n",
       "8123       1778       1       4  \n",
       "\n",
       "[8124 rows x 14 columns]"
      ]
     },
     "execution_count": 30,
     "metadata": {},
     "output_type": "execute_result"
    }
   ],
   "source": [
    "data_cat"
   ]
  },
  {
   "cell_type": "markdown",
   "metadata": {},
   "source": [
    "### Combining the labelled columns and Numerical columns "
   ]
  },
  {
   "cell_type": "code",
   "execution_count": 31,
   "metadata": {},
   "outputs": [],
   "source": [
    "data_final = pd.concat([data_cat, data_num], axis = 1)"
   ]
  },
  {
   "cell_type": "code",
   "execution_count": 32,
   "metadata": {},
   "outputs": [
    {
     "data": {
      "text/html": [
       "<div>\n",
       "<style scoped>\n",
       "    .dataframe tbody tr th:only-of-type {\n",
       "        vertical-align: middle;\n",
       "    }\n",
       "\n",
       "    .dataframe tbody tr th {\n",
       "        vertical-align: top;\n",
       "    }\n",
       "\n",
       "    .dataframe thead th {\n",
       "        text-align: right;\n",
       "    }\n",
       "</style>\n",
       "<table border=\"1\" class=\"dataframe\">\n",
       "  <thead>\n",
       "    <tr style=\"text-align: right;\">\n",
       "      <th></th>\n",
       "      <th>children</th>\n",
       "      <th>age_band</th>\n",
       "      <th>status</th>\n",
       "      <th>occupation</th>\n",
       "      <th>occupation_partner</th>\n",
       "      <th>home_status</th>\n",
       "      <th>family_income</th>\n",
       "      <th>self_employed</th>\n",
       "      <th>self_employed_partner</th>\n",
       "      <th>TVarea</th>\n",
       "      <th>...</th>\n",
       "      <th>Personal_Loan</th>\n",
       "      <th>Investment_in_Mutual_Fund</th>\n",
       "      <th>Investment_Tax_Saving_Bond</th>\n",
       "      <th>Home_Loan</th>\n",
       "      <th>Online_Purchase_Amount</th>\n",
       "      <th>Investment_in_Commudity</th>\n",
       "      <th>Investment_in_Equity</th>\n",
       "      <th>Investment_in_Derivative</th>\n",
       "      <th>Portfolio_Balance</th>\n",
       "      <th>Revenue_Grid</th>\n",
       "    </tr>\n",
       "  </thead>\n",
       "  <tbody>\n",
       "    <tr>\n",
       "      <th>0</th>\n",
       "      <td>1</td>\n",
       "      <td>3</td>\n",
       "      <td>1</td>\n",
       "      <td>4</td>\n",
       "      <td>4</td>\n",
       "      <td>1</td>\n",
       "      <td>11</td>\n",
       "      <td>0</td>\n",
       "      <td>0</td>\n",
       "      <td>7</td>\n",
       "      <td>...</td>\n",
       "      <td>175.43</td>\n",
       "      <td>134.35</td>\n",
       "      <td>8.98</td>\n",
       "      <td>55.44</td>\n",
       "      <td>7.68</td>\n",
       "      <td>151.55</td>\n",
       "      <td>81.79</td>\n",
       "      <td>136.02</td>\n",
       "      <td>360.37</td>\n",
       "      <td>2</td>\n",
       "    </tr>\n",
       "    <tr>\n",
       "      <th>1</th>\n",
       "      <td>4</td>\n",
       "      <td>6</td>\n",
       "      <td>1</td>\n",
       "      <td>6</td>\n",
       "      <td>4</td>\n",
       "      <td>1</td>\n",
       "      <td>11</td>\n",
       "      <td>0</td>\n",
       "      <td>0</td>\n",
       "      <td>7</td>\n",
       "      <td>...</td>\n",
       "      <td>15.99</td>\n",
       "      <td>0.00</td>\n",
       "      <td>0.00</td>\n",
       "      <td>0.00</td>\n",
       "      <td>18.99</td>\n",
       "      <td>44.28</td>\n",
       "      <td>13.91</td>\n",
       "      <td>29.23</td>\n",
       "      <td>89.22</td>\n",
       "      <td>2</td>\n",
       "    </tr>\n",
       "    <tr>\n",
       "      <th>2</th>\n",
       "      <td>0</td>\n",
       "      <td>4</td>\n",
       "      <td>1</td>\n",
       "      <td>2</td>\n",
       "      <td>2</td>\n",
       "      <td>2</td>\n",
       "      <td>7</td>\n",
       "      <td>1</td>\n",
       "      <td>1</td>\n",
       "      <td>6</td>\n",
       "      <td>...</td>\n",
       "      <td>0.02</td>\n",
       "      <td>10.46</td>\n",
       "      <td>0.00</td>\n",
       "      <td>0.00</td>\n",
       "      <td>0.00</td>\n",
       "      <td>8.58</td>\n",
       "      <td>1.75</td>\n",
       "      <td>4.82</td>\n",
       "      <td>14.50</td>\n",
       "      <td>2</td>\n",
       "    </tr>\n",
       "    <tr>\n",
       "      <th>3</th>\n",
       "      <td>1</td>\n",
       "      <td>3</td>\n",
       "      <td>1</td>\n",
       "      <td>2</td>\n",
       "      <td>2</td>\n",
       "      <td>1</td>\n",
       "      <td>8</td>\n",
       "      <td>0</td>\n",
       "      <td>0</td>\n",
       "      <td>8</td>\n",
       "      <td>...</td>\n",
       "      <td>0.00</td>\n",
       "      <td>0.00</td>\n",
       "      <td>0.00</td>\n",
       "      <td>0.00</td>\n",
       "      <td>0.00</td>\n",
       "      <td>15.00</td>\n",
       "      <td>0.00</td>\n",
       "      <td>5.00</td>\n",
       "      <td>68.98</td>\n",
       "      <td>2</td>\n",
       "    </tr>\n",
       "    <tr>\n",
       "      <th>4</th>\n",
       "      <td>4</td>\n",
       "      <td>8</td>\n",
       "      <td>1</td>\n",
       "      <td>1</td>\n",
       "      <td>4</td>\n",
       "      <td>1</td>\n",
       "      <td>11</td>\n",
       "      <td>0</td>\n",
       "      <td>0</td>\n",
       "      <td>13</td>\n",
       "      <td>...</td>\n",
       "      <td>0.00</td>\n",
       "      <td>9.98</td>\n",
       "      <td>0.00</td>\n",
       "      <td>0.00</td>\n",
       "      <td>0.00</td>\n",
       "      <td>0.00</td>\n",
       "      <td>1.66</td>\n",
       "      <td>1.66</td>\n",
       "      <td>1.88</td>\n",
       "      <td>2</td>\n",
       "    </tr>\n",
       "    <tr>\n",
       "      <th>...</th>\n",
       "      <td>...</td>\n",
       "      <td>...</td>\n",
       "      <td>...</td>\n",
       "      <td>...</td>\n",
       "      <td>...</td>\n",
       "      <td>...</td>\n",
       "      <td>...</td>\n",
       "      <td>...</td>\n",
       "      <td>...</td>\n",
       "      <td>...</td>\n",
       "      <td>...</td>\n",
       "      <td>...</td>\n",
       "      <td>...</td>\n",
       "      <td>...</td>\n",
       "      <td>...</td>\n",
       "      <td>...</td>\n",
       "      <td>...</td>\n",
       "      <td>...</td>\n",
       "      <td>...</td>\n",
       "      <td>...</td>\n",
       "      <td>...</td>\n",
       "    </tr>\n",
       "    <tr>\n",
       "      <th>8119</th>\n",
       "      <td>2</td>\n",
       "      <td>4</td>\n",
       "      <td>1</td>\n",
       "      <td>2</td>\n",
       "      <td>1</td>\n",
       "      <td>1</td>\n",
       "      <td>6</td>\n",
       "      <td>0</td>\n",
       "      <td>0</td>\n",
       "      <td>7</td>\n",
       "      <td>...</td>\n",
       "      <td>0.00</td>\n",
       "      <td>0.00</td>\n",
       "      <td>0.00</td>\n",
       "      <td>0.00</td>\n",
       "      <td>0.00</td>\n",
       "      <td>0.00</td>\n",
       "      <td>0.00</td>\n",
       "      <td>0.00</td>\n",
       "      <td>15.23</td>\n",
       "      <td>2</td>\n",
       "    </tr>\n",
       "    <tr>\n",
       "      <th>8120</th>\n",
       "      <td>4</td>\n",
       "      <td>9</td>\n",
       "      <td>4</td>\n",
       "      <td>5</td>\n",
       "      <td>8</td>\n",
       "      <td>1</td>\n",
       "      <td>1</td>\n",
       "      <td>0</td>\n",
       "      <td>0</td>\n",
       "      <td>3</td>\n",
       "      <td>...</td>\n",
       "      <td>0.00</td>\n",
       "      <td>46.76</td>\n",
       "      <td>0.00</td>\n",
       "      <td>0.00</td>\n",
       "      <td>0.00</td>\n",
       "      <td>1.90</td>\n",
       "      <td>8.29</td>\n",
       "      <td>8.29</td>\n",
       "      <td>68.42</td>\n",
       "      <td>2</td>\n",
       "    </tr>\n",
       "    <tr>\n",
       "      <th>8121</th>\n",
       "      <td>0</td>\n",
       "      <td>5</td>\n",
       "      <td>2</td>\n",
       "      <td>1</td>\n",
       "      <td>8</td>\n",
       "      <td>3</td>\n",
       "      <td>1</td>\n",
       "      <td>0</td>\n",
       "      <td>0</td>\n",
       "      <td>11</td>\n",
       "      <td>...</td>\n",
       "      <td>0.00</td>\n",
       "      <td>101.37</td>\n",
       "      <td>1.00</td>\n",
       "      <td>3.72</td>\n",
       "      <td>0.00</td>\n",
       "      <td>30.97</td>\n",
       "      <td>24.17</td>\n",
       "      <td>31.46</td>\n",
       "      <td>106.06</td>\n",
       "      <td>2</td>\n",
       "    </tr>\n",
       "    <tr>\n",
       "      <th>8122</th>\n",
       "      <td>4</td>\n",
       "      <td>9</td>\n",
       "      <td>1</td>\n",
       "      <td>5</td>\n",
       "      <td>5</td>\n",
       "      <td>1</td>\n",
       "      <td>0</td>\n",
       "      <td>0</td>\n",
       "      <td>0</td>\n",
       "      <td>7</td>\n",
       "      <td>...</td>\n",
       "      <td>0.00</td>\n",
       "      <td>0.00</td>\n",
       "      <td>0.00</td>\n",
       "      <td>0.00</td>\n",
       "      <td>0.00</td>\n",
       "      <td>11.90</td>\n",
       "      <td>0.00</td>\n",
       "      <td>0.00</td>\n",
       "      <td>-9.19</td>\n",
       "      <td>2</td>\n",
       "    </tr>\n",
       "    <tr>\n",
       "      <th>8123</th>\n",
       "      <td>2</td>\n",
       "      <td>5</td>\n",
       "      <td>1</td>\n",
       "      <td>0</td>\n",
       "      <td>1</td>\n",
       "      <td>1</td>\n",
       "      <td>8</td>\n",
       "      <td>0</td>\n",
       "      <td>0</td>\n",
       "      <td>10</td>\n",
       "      <td>...</td>\n",
       "      <td>95.90</td>\n",
       "      <td>58.44</td>\n",
       "      <td>15.47</td>\n",
       "      <td>4.49</td>\n",
       "      <td>3.99</td>\n",
       "      <td>66.47</td>\n",
       "      <td>38.29</td>\n",
       "      <td>60.37</td>\n",
       "      <td>160.79</td>\n",
       "      <td>2</td>\n",
       "    </tr>\n",
       "  </tbody>\n",
       "</table>\n",
       "<p>8124 rows × 32 columns</p>\n",
       "</div>"
      ],
      "text/plain": [
       "      children  age_band  status  occupation  occupation_partner  home_status  \\\n",
       "0            1         3       1           4                   4            1   \n",
       "1            4         6       1           6                   4            1   \n",
       "2            0         4       1           2                   2            2   \n",
       "3            1         3       1           2                   2            1   \n",
       "4            4         8       1           1                   4            1   \n",
       "...        ...       ...     ...         ...                 ...          ...   \n",
       "8119         2         4       1           2                   1            1   \n",
       "8120         4         9       4           5                   8            1   \n",
       "8121         0         5       2           1                   8            3   \n",
       "8122         4         9       1           5                   5            1   \n",
       "8123         2         5       1           0                   1            1   \n",
       "\n",
       "      family_income  self_employed  self_employed_partner  TVarea  ...  \\\n",
       "0                11              0                      0       7  ...   \n",
       "1                11              0                      0       7  ...   \n",
       "2                 7              1                      1       6  ...   \n",
       "3                 8              0                      0       8  ...   \n",
       "4                11              0                      0      13  ...   \n",
       "...             ...            ...                    ...     ...  ...   \n",
       "8119              6              0                      0       7  ...   \n",
       "8120              1              0                      0       3  ...   \n",
       "8121              1              0                      0      11  ...   \n",
       "8122              0              0                      0       7  ...   \n",
       "8123              8              0                      0      10  ...   \n",
       "\n",
       "      Personal_Loan  Investment_in_Mutual_Fund  Investment_Tax_Saving_Bond  \\\n",
       "0            175.43                     134.35                        8.98   \n",
       "1             15.99                       0.00                        0.00   \n",
       "2              0.02                      10.46                        0.00   \n",
       "3              0.00                       0.00                        0.00   \n",
       "4              0.00                       9.98                        0.00   \n",
       "...             ...                        ...                         ...   \n",
       "8119           0.00                       0.00                        0.00   \n",
       "8120           0.00                      46.76                        0.00   \n",
       "8121           0.00                     101.37                        1.00   \n",
       "8122           0.00                       0.00                        0.00   \n",
       "8123          95.90                      58.44                       15.47   \n",
       "\n",
       "      Home_Loan  Online_Purchase_Amount  Investment_in_Commudity  \\\n",
       "0         55.44                    7.68                   151.55   \n",
       "1          0.00                   18.99                    44.28   \n",
       "2          0.00                    0.00                     8.58   \n",
       "3          0.00                    0.00                    15.00   \n",
       "4          0.00                    0.00                     0.00   \n",
       "...         ...                     ...                      ...   \n",
       "8119       0.00                    0.00                     0.00   \n",
       "8120       0.00                    0.00                     1.90   \n",
       "8121       3.72                    0.00                    30.97   \n",
       "8122       0.00                    0.00                    11.90   \n",
       "8123       4.49                    3.99                    66.47   \n",
       "\n",
       "      Investment_in_Equity  Investment_in_Derivative  Portfolio_Balance  \\\n",
       "0                    81.79                    136.02             360.37   \n",
       "1                    13.91                     29.23              89.22   \n",
       "2                     1.75                      4.82              14.50   \n",
       "3                     0.00                      5.00              68.98   \n",
       "4                     1.66                      1.66               1.88   \n",
       "...                    ...                       ...                ...   \n",
       "8119                  0.00                      0.00              15.23   \n",
       "8120                  8.29                      8.29              68.42   \n",
       "8121                 24.17                     31.46             106.06   \n",
       "8122                  0.00                      0.00              -9.19   \n",
       "8123                 38.29                     60.37             160.79   \n",
       "\n",
       "      Revenue_Grid  \n",
       "0                2  \n",
       "1                2  \n",
       "2                2  \n",
       "3                2  \n",
       "4                2  \n",
       "...            ...  \n",
       "8119             2  \n",
       "8120             2  \n",
       "8121             2  \n",
       "8122             2  \n",
       "8123             2  \n",
       "\n",
       "[8124 rows x 32 columns]"
      ]
     },
     "execution_count": 32,
     "metadata": {},
     "output_type": "execute_result"
    }
   ],
   "source": [
    "data_final"
   ]
  },
  {
   "cell_type": "markdown",
   "metadata": {},
   "source": [
    "### Setting REF_NO as first column"
   ]
  },
  {
   "cell_type": "code",
   "execution_count": 33,
   "metadata": {},
   "outputs": [],
   "source": [
    "# data_final.set_index('REF_NO', inplace = True)\n",
    "# data_final.reset_index(inplace = True)\n",
    "data_final = data_final[['REF_NO', 'children', 'age_band', 'status', 'occupation',\n",
    "                       'occupation_partner', 'home_status', 'family_income', 'self_employed',\n",
    "                       'self_employed_partner', 'year_last_moved', 'TVarea', 'post_code',\n",
    "                       'post_area', 'Average_Credit_Card_Transaction', 'Balance_Transfer',\n",
    "                       'Term_Deposit', 'Life_Insurance', 'Medical_Insurance',\n",
    "                       'Average_A/C_Balance', 'Personal_Loan', 'Investment_in_Mutual_Fund',\n",
    "                       'Investment_Tax_Saving_Bond', 'Home_Loan', 'Online_Purchase_Amount',\n",
    "                       'gender', 'region', 'Investment_in_Commudity', 'Investment_in_Equity',\n",
    "                       'Investment_in_Derivative', 'Portfolio_Balance', 'Revenue_Grid']]"
   ]
  },
  {
   "cell_type": "code",
   "execution_count": 34,
   "metadata": {},
   "outputs": [
    {
     "data": {
      "text/plain": [
       "(8124, 32)"
      ]
     },
     "execution_count": 34,
     "metadata": {},
     "output_type": "execute_result"
    }
   ],
   "source": [
    "data_final.shape"
   ]
  },
  {
   "cell_type": "code",
   "execution_count": 35,
   "metadata": {},
   "outputs": [
    {
     "data": {
      "text/html": [
       "<div>\n",
       "<style scoped>\n",
       "    .dataframe tbody tr th:only-of-type {\n",
       "        vertical-align: middle;\n",
       "    }\n",
       "\n",
       "    .dataframe tbody tr th {\n",
       "        vertical-align: top;\n",
       "    }\n",
       "\n",
       "    .dataframe thead th {\n",
       "        text-align: right;\n",
       "    }\n",
       "</style>\n",
       "<table border=\"1\" class=\"dataframe\">\n",
       "  <thead>\n",
       "    <tr style=\"text-align: right;\">\n",
       "      <th></th>\n",
       "      <th>REF_NO</th>\n",
       "      <th>children</th>\n",
       "      <th>age_band</th>\n",
       "      <th>status</th>\n",
       "      <th>occupation</th>\n",
       "      <th>occupation_partner</th>\n",
       "      <th>home_status</th>\n",
       "      <th>family_income</th>\n",
       "      <th>self_employed</th>\n",
       "      <th>self_employed_partner</th>\n",
       "      <th>...</th>\n",
       "      <th>Investment_Tax_Saving_Bond</th>\n",
       "      <th>Home_Loan</th>\n",
       "      <th>Online_Purchase_Amount</th>\n",
       "      <th>gender</th>\n",
       "      <th>region</th>\n",
       "      <th>Investment_in_Commudity</th>\n",
       "      <th>Investment_in_Equity</th>\n",
       "      <th>Investment_in_Derivative</th>\n",
       "      <th>Portfolio_Balance</th>\n",
       "      <th>Revenue_Grid</th>\n",
       "    </tr>\n",
       "  </thead>\n",
       "  <tbody>\n",
       "    <tr>\n",
       "      <th>0</th>\n",
       "      <td>5466</td>\n",
       "      <td>1</td>\n",
       "      <td>3</td>\n",
       "      <td>1</td>\n",
       "      <td>4</td>\n",
       "      <td>4</td>\n",
       "      <td>1</td>\n",
       "      <td>11</td>\n",
       "      <td>0</td>\n",
       "      <td>0</td>\n",
       "      <td>...</td>\n",
       "      <td>8.98</td>\n",
       "      <td>55.44</td>\n",
       "      <td>7.68</td>\n",
       "      <td>0</td>\n",
       "      <td>5</td>\n",
       "      <td>151.55</td>\n",
       "      <td>81.79</td>\n",
       "      <td>136.02</td>\n",
       "      <td>360.37</td>\n",
       "      <td>2</td>\n",
       "    </tr>\n",
       "    <tr>\n",
       "      <th>1</th>\n",
       "      <td>9091</td>\n",
       "      <td>4</td>\n",
       "      <td>6</td>\n",
       "      <td>1</td>\n",
       "      <td>6</td>\n",
       "      <td>4</td>\n",
       "      <td>1</td>\n",
       "      <td>11</td>\n",
       "      <td>0</td>\n",
       "      <td>0</td>\n",
       "      <td>...</td>\n",
       "      <td>0.00</td>\n",
       "      <td>0.00</td>\n",
       "      <td>18.99</td>\n",
       "      <td>0</td>\n",
       "      <td>5</td>\n",
       "      <td>44.28</td>\n",
       "      <td>13.91</td>\n",
       "      <td>29.23</td>\n",
       "      <td>89.22</td>\n",
       "      <td>2</td>\n",
       "    </tr>\n",
       "    <tr>\n",
       "      <th>2</th>\n",
       "      <td>9744</td>\n",
       "      <td>0</td>\n",
       "      <td>4</td>\n",
       "      <td>1</td>\n",
       "      <td>2</td>\n",
       "      <td>2</td>\n",
       "      <td>2</td>\n",
       "      <td>7</td>\n",
       "      <td>1</td>\n",
       "      <td>1</td>\n",
       "      <td>...</td>\n",
       "      <td>0.00</td>\n",
       "      <td>0.00</td>\n",
       "      <td>0.00</td>\n",
       "      <td>0</td>\n",
       "      <td>9</td>\n",
       "      <td>8.58</td>\n",
       "      <td>1.75</td>\n",
       "      <td>4.82</td>\n",
       "      <td>14.50</td>\n",
       "      <td>2</td>\n",
       "    </tr>\n",
       "    <tr>\n",
       "      <th>3</th>\n",
       "      <td>10700</td>\n",
       "      <td>1</td>\n",
       "      <td>3</td>\n",
       "      <td>1</td>\n",
       "      <td>2</td>\n",
       "      <td>2</td>\n",
       "      <td>1</td>\n",
       "      <td>8</td>\n",
       "      <td>0</td>\n",
       "      <td>0</td>\n",
       "      <td>...</td>\n",
       "      <td>0.00</td>\n",
       "      <td>0.00</td>\n",
       "      <td>0.00</td>\n",
       "      <td>0</td>\n",
       "      <td>7</td>\n",
       "      <td>15.00</td>\n",
       "      <td>0.00</td>\n",
       "      <td>5.00</td>\n",
       "      <td>68.98</td>\n",
       "      <td>2</td>\n",
       "    </tr>\n",
       "    <tr>\n",
       "      <th>4</th>\n",
       "      <td>1987</td>\n",
       "      <td>4</td>\n",
       "      <td>8</td>\n",
       "      <td>1</td>\n",
       "      <td>1</td>\n",
       "      <td>4</td>\n",
       "      <td>1</td>\n",
       "      <td>11</td>\n",
       "      <td>0</td>\n",
       "      <td>0</td>\n",
       "      <td>...</td>\n",
       "      <td>0.00</td>\n",
       "      <td>0.00</td>\n",
       "      <td>0.00</td>\n",
       "      <td>0</td>\n",
       "      <td>10</td>\n",
       "      <td>0.00</td>\n",
       "      <td>1.66</td>\n",
       "      <td>1.66</td>\n",
       "      <td>1.88</td>\n",
       "      <td>2</td>\n",
       "    </tr>\n",
       "  </tbody>\n",
       "</table>\n",
       "<p>5 rows × 32 columns</p>\n",
       "</div>"
      ],
      "text/plain": [
       "   REF_NO  children  age_band  status  occupation  occupation_partner  \\\n",
       "0    5466         1         3       1           4                   4   \n",
       "1    9091         4         6       1           6                   4   \n",
       "2    9744         0         4       1           2                   2   \n",
       "3   10700         1         3       1           2                   2   \n",
       "4    1987         4         8       1           1                   4   \n",
       "\n",
       "   home_status  family_income  self_employed  self_employed_partner  ...  \\\n",
       "0            1             11              0                      0  ...   \n",
       "1            1             11              0                      0  ...   \n",
       "2            2              7              1                      1  ...   \n",
       "3            1              8              0                      0  ...   \n",
       "4            1             11              0                      0  ...   \n",
       "\n",
       "   Investment_Tax_Saving_Bond  Home_Loan  Online_Purchase_Amount  gender  \\\n",
       "0                        8.98      55.44                    7.68       0   \n",
       "1                        0.00       0.00                   18.99       0   \n",
       "2                        0.00       0.00                    0.00       0   \n",
       "3                        0.00       0.00                    0.00       0   \n",
       "4                        0.00       0.00                    0.00       0   \n",
       "\n",
       "   region  Investment_in_Commudity  Investment_in_Equity  \\\n",
       "0       5                   151.55                 81.79   \n",
       "1       5                    44.28                 13.91   \n",
       "2       9                     8.58                  1.75   \n",
       "3       7                    15.00                  0.00   \n",
       "4      10                     0.00                  1.66   \n",
       "\n",
       "   Investment_in_Derivative  Portfolio_Balance  Revenue_Grid  \n",
       "0                    136.02             360.37             2  \n",
       "1                     29.23              89.22             2  \n",
       "2                      4.82              14.50             2  \n",
       "3                      5.00              68.98             2  \n",
       "4                      1.66               1.88             2  \n",
       "\n",
       "[5 rows x 32 columns]"
      ]
     },
     "execution_count": 35,
     "metadata": {},
     "output_type": "execute_result"
    }
   ],
   "source": [
    "data_final.head()"
   ]
  },
  {
   "cell_type": "markdown",
   "metadata": {},
   "source": [
    "<a name = section802></a>\n",
    "### 8.2 Feature Extration & model selection"
   ]
  },
  {
   "cell_type": "markdown",
   "metadata": {},
   "source": [
    "### Split the data into Features and Target variable"
   ]
  },
  {
   "cell_type": "code",
   "execution_count": 36,
   "metadata": {},
   "outputs": [],
   "source": [
    "data_features = data_final.drop('Revenue_Grid', axis = 1)                  # Feature/Independent Variable\n",
    "data_target = data_final['Revenue_Grid']                                 # Target/ Dependent Variable"
   ]
  },
  {
   "cell_type": "code",
   "execution_count": 37,
   "metadata": {},
   "outputs": [
    {
     "data": {
      "text/html": [
       "<div>\n",
       "<style scoped>\n",
       "    .dataframe tbody tr th:only-of-type {\n",
       "        vertical-align: middle;\n",
       "    }\n",
       "\n",
       "    .dataframe tbody tr th {\n",
       "        vertical-align: top;\n",
       "    }\n",
       "\n",
       "    .dataframe thead th {\n",
       "        text-align: right;\n",
       "    }\n",
       "</style>\n",
       "<table border=\"1\" class=\"dataframe\">\n",
       "  <thead>\n",
       "    <tr style=\"text-align: right;\">\n",
       "      <th></th>\n",
       "      <th>REF_NO</th>\n",
       "      <th>children</th>\n",
       "      <th>age_band</th>\n",
       "      <th>status</th>\n",
       "      <th>occupation</th>\n",
       "      <th>occupation_partner</th>\n",
       "      <th>home_status</th>\n",
       "      <th>family_income</th>\n",
       "      <th>self_employed</th>\n",
       "      <th>self_employed_partner</th>\n",
       "      <th>...</th>\n",
       "      <th>Investment_in_Mutual_Fund</th>\n",
       "      <th>Investment_Tax_Saving_Bond</th>\n",
       "      <th>Home_Loan</th>\n",
       "      <th>Online_Purchase_Amount</th>\n",
       "      <th>gender</th>\n",
       "      <th>region</th>\n",
       "      <th>Investment_in_Commudity</th>\n",
       "      <th>Investment_in_Equity</th>\n",
       "      <th>Investment_in_Derivative</th>\n",
       "      <th>Portfolio_Balance</th>\n",
       "    </tr>\n",
       "  </thead>\n",
       "  <tbody>\n",
       "    <tr>\n",
       "      <th>0</th>\n",
       "      <td>5466</td>\n",
       "      <td>1</td>\n",
       "      <td>3</td>\n",
       "      <td>1</td>\n",
       "      <td>4</td>\n",
       "      <td>4</td>\n",
       "      <td>1</td>\n",
       "      <td>11</td>\n",
       "      <td>0</td>\n",
       "      <td>0</td>\n",
       "      <td>...</td>\n",
       "      <td>134.35</td>\n",
       "      <td>8.98</td>\n",
       "      <td>55.44</td>\n",
       "      <td>7.68</td>\n",
       "      <td>0</td>\n",
       "      <td>5</td>\n",
       "      <td>151.55</td>\n",
       "      <td>81.79</td>\n",
       "      <td>136.02</td>\n",
       "      <td>360.37</td>\n",
       "    </tr>\n",
       "    <tr>\n",
       "      <th>1</th>\n",
       "      <td>9091</td>\n",
       "      <td>4</td>\n",
       "      <td>6</td>\n",
       "      <td>1</td>\n",
       "      <td>6</td>\n",
       "      <td>4</td>\n",
       "      <td>1</td>\n",
       "      <td>11</td>\n",
       "      <td>0</td>\n",
       "      <td>0</td>\n",
       "      <td>...</td>\n",
       "      <td>0.00</td>\n",
       "      <td>0.00</td>\n",
       "      <td>0.00</td>\n",
       "      <td>18.99</td>\n",
       "      <td>0</td>\n",
       "      <td>5</td>\n",
       "      <td>44.28</td>\n",
       "      <td>13.91</td>\n",
       "      <td>29.23</td>\n",
       "      <td>89.22</td>\n",
       "    </tr>\n",
       "  </tbody>\n",
       "</table>\n",
       "<p>2 rows × 31 columns</p>\n",
       "</div>"
      ],
      "text/plain": [
       "   REF_NO  children  age_band  status  occupation  occupation_partner  \\\n",
       "0    5466         1         3       1           4                   4   \n",
       "1    9091         4         6       1           6                   4   \n",
       "\n",
       "   home_status  family_income  self_employed  self_employed_partner  ...  \\\n",
       "0            1             11              0                      0  ...   \n",
       "1            1             11              0                      0  ...   \n",
       "\n",
       "   Investment_in_Mutual_Fund  Investment_Tax_Saving_Bond  Home_Loan  \\\n",
       "0                     134.35                        8.98      55.44   \n",
       "1                       0.00                        0.00       0.00   \n",
       "\n",
       "   Online_Purchase_Amount  gender  region  Investment_in_Commudity  \\\n",
       "0                    7.68       0       5                   151.55   \n",
       "1                   18.99       0       5                    44.28   \n",
       "\n",
       "   Investment_in_Equity  Investment_in_Derivative  Portfolio_Balance  \n",
       "0                 81.79                    136.02             360.37  \n",
       "1                 13.91                     29.23              89.22  \n",
       "\n",
       "[2 rows x 31 columns]"
      ]
     },
     "execution_count": 37,
     "metadata": {},
     "output_type": "execute_result"
    }
   ],
   "source": [
    "data_features.head(2)"
   ]
  },
  {
   "cell_type": "code",
   "execution_count": 38,
   "metadata": {},
   "outputs": [
    {
     "data": {
      "text/plain": [
       "0    2\n",
       "1    2\n",
       "Name: Revenue_Grid, dtype: int64"
      ]
     },
     "execution_count": 38,
     "metadata": {},
     "output_type": "execute_result"
    }
   ],
   "source": [
    "data_target.head(2)"
   ]
  },
  {
   "cell_type": "markdown",
   "metadata": {},
   "source": [
    "### Import the train test split and split the data into train and test data for target & Feature variables"
   ]
  },
  {
   "cell_type": "code",
   "execution_count": 39,
   "metadata": {},
   "outputs": [],
   "source": [
    "from sklearn.model_selection import train_test_split"
   ]
  },
  {
   "cell_type": "code",
   "execution_count": 40,
   "metadata": {},
   "outputs": [],
   "source": [
    "X_train, X_test, y_train, y_test = train_test_split(data_features, data_target, test_size=0.2, random_state=1)"
   ]
  },
  {
   "cell_type": "code",
   "execution_count": 41,
   "metadata": {},
   "outputs": [
    {
     "name": "stdout",
     "output_type": "stream",
     "text": [
      "Train cases as below\n",
      "X_train shape:  (6499, 31)\n",
      "y_train shape:  (6499,)\n",
      "\n",
      "Test cases as below\n",
      "X_test shape:  (1625, 31)\n",
      "y_test shape:  (1625,)\n"
     ]
    }
   ],
   "source": [
    "print('Train cases as below')          # Print the shape of Train and Test data\n",
    "print('X_train shape: ',X_train.shape)\n",
    "print('y_train shape: ',y_train.shape)\n",
    "print('\\nTest cases as below')\n",
    "print('X_test shape: ',X_test.shape)\n",
    "print('y_test shape: ',y_test.shape)"
   ]
  },
  {
   "cell_type": "markdown",
   "metadata": {},
   "source": [
    "<a name = section803></a>\n",
    "### 8.3 Logistic Regression\n",
    "\n",
    "**Here, we will use these 4 steps :** \n",
    "\n",
    " - (a) Load the algorithm \n",
    " - (b) Instantiate and Fit the model to the training dataset\n",
    " - (c) Prediction on the test set\n",
    " - (d) Evaluate the model"
   ]
  },
  {
   "cell_type": "markdown",
   "metadata": {},
   "source": [
    "- ### Import the Logistic Regression "
   ]
  },
  {
   "cell_type": "code",
   "execution_count": 42,
   "metadata": {},
   "outputs": [],
   "source": [
    "from sklearn.linear_model import LogisticRegression"
   ]
  },
  {
   "cell_type": "markdown",
   "metadata": {},
   "source": [
    "- ### Instantiate the algorithm"
   ]
  },
  {
   "cell_type": "code",
   "execution_count": 43,
   "metadata": {},
   "outputs": [],
   "source": [
    "logreg = LogisticRegression()"
   ]
  },
  {
   "cell_type": "markdown",
   "metadata": {},
   "source": [
    "- ### Train the model using X_train and y_train data"
   ]
  },
  {
   "cell_type": "code",
   "execution_count": 44,
   "metadata": {},
   "outputs": [
    {
     "data": {
      "text/plain": [
       "LogisticRegression()"
      ]
     },
     "execution_count": 44,
     "metadata": {},
     "output_type": "execute_result"
    }
   ],
   "source": [
    "logreg.fit(X_train, y_train)"
   ]
  },
  {
   "cell_type": "markdown",
   "metadata": {},
   "source": [
    "- ### Making Predictions using trained model for test data"
   ]
  },
  {
   "cell_type": "code",
   "execution_count": 45,
   "metadata": {},
   "outputs": [],
   "source": [
    "data_pred = logreg.predict(X_test)"
   ]
  },
  {
   "cell_type": "code",
   "execution_count": 46,
   "metadata": {},
   "outputs": [
    {
     "data": {
      "text/plain": [
       "array([2, 2, 2, ..., 2, 2, 2], dtype=int64)"
      ]
     },
     "execution_count": 46,
     "metadata": {},
     "output_type": "execute_result"
    }
   ],
   "source": [
    "data_pred"
   ]
  },
  {
   "cell_type": "markdown",
   "metadata": {},
   "source": [
    "- ### Let us import the evaluation matrices for the classification model (Logistic Regression)"
   ]
  },
  {
   "cell_type": "code",
   "execution_count": 47,
   "metadata": {},
   "outputs": [],
   "source": [
    "from sklearn.metrics import accuracy_score\n",
    "from sklearn.metrics import recall_score\n",
    "from sklearn.metrics import precision_score\n",
    "from sklearn.metrics import roc_auc_score\n",
    "from sklearn.metrics import f1_score\n",
    "from sklearn.metrics import confusion_matrix\n",
    "from sklearn.metrics import classification_report"
   ]
  },
  {
   "cell_type": "code",
   "execution_count": 48,
   "metadata": {},
   "outputs": [],
   "source": [
    "data_pred_train = logreg.predict(X_train)"
   ]
  },
  {
   "cell_type": "code",
   "execution_count": 49,
   "metadata": {},
   "outputs": [
    {
     "data": {
      "text/plain": [
       "0.9452223418987536"
      ]
     },
     "execution_count": 49,
     "metadata": {},
     "output_type": "execute_result"
    }
   ],
   "source": [
    "accuracy_score(data_pred_train, y_train)"
   ]
  },
  {
   "cell_type": "code",
   "execution_count": 50,
   "metadata": {},
   "outputs": [
    {
     "data": {
      "text/plain": [
       "0.931076923076923"
      ]
     },
     "execution_count": 50,
     "metadata": {},
     "output_type": "execute_result"
    }
   ],
   "source": [
    "accuracy_score(data_pred, y_test)"
   ]
  },
  {
   "cell_type": "code",
   "execution_count": 51,
   "metadata": {},
   "outputs": [
    {
     "data": {
      "text/plain": [
       "0.6606060606060606"
      ]
     },
     "execution_count": 51,
     "metadata": {},
     "output_type": "execute_result"
    }
   ],
   "source": [
    "f1_score(data_pred, y_test)"
   ]
  },
  {
   "cell_type": "code",
   "execution_count": 52,
   "metadata": {},
   "outputs": [
    {
     "data": {
      "text/plain": [
       "0.7730496453900709"
      ]
     },
     "execution_count": 52,
     "metadata": {},
     "output_type": "execute_result"
    }
   ],
   "source": [
    "recall_score(data_pred, y_test)"
   ]
  },
  {
   "cell_type": "code",
   "execution_count": 53,
   "metadata": {},
   "outputs": [
    {
     "data": {
      "text/plain": [
       "0.5767195767195767"
      ]
     },
     "execution_count": 53,
     "metadata": {},
     "output_type": "execute_result"
    }
   ],
   "source": [
    "precision_score(data_pred, y_test)"
   ]
  },
  {
   "cell_type": "code",
   "execution_count": 54,
   "metadata": {},
   "outputs": [
    {
     "data": {
      "text/plain": [
       "array([[ 109,   32],\n",
       "       [  80, 1404]], dtype=int64)"
      ]
     },
     "execution_count": 54,
     "metadata": {},
     "output_type": "execute_result"
    }
   ],
   "source": [
    "confusion_matrix(data_pred, y_test)"
   ]
  },
  {
   "cell_type": "code",
   "execution_count": 55,
   "metadata": {},
   "outputs": [
    {
     "name": "stdout",
     "output_type": "stream",
     "text": [
      "              precision    recall  f1-score   support\n",
      "\n",
      "           1       0.58      0.77      0.66       141\n",
      "           2       0.98      0.95      0.96      1484\n",
      "\n",
      "    accuracy                           0.93      1625\n",
      "   macro avg       0.78      0.86      0.81      1625\n",
      "weighted avg       0.94      0.93      0.94      1625\n",
      "\n"
     ]
    }
   ],
   "source": [
    "print(classification_report(data_pred, y_test))"
   ]
  },
  {
   "cell_type": "code",
   "execution_count": 56,
   "metadata": {},
   "outputs": [
    {
     "data": {
      "text/plain": [
       "0.8595706447974614"
      ]
     },
     "execution_count": 56,
     "metadata": {},
     "output_type": "execute_result"
    }
   ],
   "source": [
    "roc_auc_score(data_pred, y_test)"
   ]
  },
  {
   "cell_type": "code",
   "execution_count": 57,
   "metadata": {},
   "outputs": [
    {
     "name": "stdout",
     "output_type": "stream",
     "text": [
      "The Accuracy Score is:  0.931076923076923\n",
      "The F1 score is:  0.6606060606060606\n",
      "The Recall score is:  0.7730496453900709\n",
      "The Precision score is:  0.5767195767195767\n",
      "The ROC-AUC score is:  0.8595706447974614\n"
     ]
    }
   ],
   "source": [
    "print('The Accuracy Score is: ',accuracy_score(data_pred, y_test))\n",
    "print('The F1 score is: ', f1_score(data_pred, y_test))\n",
    "print('The Recall score is: ', recall_score(data_pred, y_test))\n",
    "print('The Precision score is: ', precision_score(data_pred, y_test))\n",
    "print('The ROC-AUC score is: ', roc_auc_score(data_pred, y_test))"
   ]
  },
  {
   "cell_type": "markdown",
   "metadata": {},
   "source": [
    "<a name = section9></a>\n",
    "## 9. Analysis of Test dataset\n",
    "\n",
    "- ### Now, we will use our trained model on the dataset which it never seen.\n",
    "- ### We have a new dataset simillar to train dataset (except the Target Variable..Revenue_Grid)"
   ]
  },
  {
   "cell_type": "code",
   "execution_count": 58,
   "metadata": {},
   "outputs": [],
   "source": [
    "data_test = pd.read_csv(r'E:\\INSAID Projects\\Customer Satisfaction_ML1\\existing_base_test.csv')"
   ]
  },
  {
   "cell_type": "code",
   "execution_count": 59,
   "metadata": {},
   "outputs": [
    {
     "name": "stdout",
     "output_type": "stream",
     "text": [
      "Shape of the Test Dataset:  (2031, 31)\n"
     ]
    },
    {
     "data": {
      "text/html": [
       "<div>\n",
       "<style scoped>\n",
       "    .dataframe tbody tr th:only-of-type {\n",
       "        vertical-align: middle;\n",
       "    }\n",
       "\n",
       "    .dataframe tbody tr th {\n",
       "        vertical-align: top;\n",
       "    }\n",
       "\n",
       "    .dataframe thead th {\n",
       "        text-align: right;\n",
       "    }\n",
       "</style>\n",
       "<table border=\"1\" class=\"dataframe\">\n",
       "  <thead>\n",
       "    <tr style=\"text-align: right;\">\n",
       "      <th></th>\n",
       "      <th>REF_NO</th>\n",
       "      <th>children</th>\n",
       "      <th>age_band</th>\n",
       "      <th>status</th>\n",
       "      <th>occupation</th>\n",
       "      <th>occupation_partner</th>\n",
       "      <th>home_status</th>\n",
       "      <th>family_income</th>\n",
       "      <th>self_employed</th>\n",
       "      <th>self_employed_partner</th>\n",
       "      <th>...</th>\n",
       "      <th>Investment_in_Mutual_Fund</th>\n",
       "      <th>Investment_Tax_Saving_Bond</th>\n",
       "      <th>Home_Loan</th>\n",
       "      <th>Online_Purchase_Amount</th>\n",
       "      <th>gender</th>\n",
       "      <th>region</th>\n",
       "      <th>Investment_in_Commudity</th>\n",
       "      <th>Investment_in_Equity</th>\n",
       "      <th>Investment_in_Derivative</th>\n",
       "      <th>Portfolio_Balance</th>\n",
       "    </tr>\n",
       "  </thead>\n",
       "  <tbody>\n",
       "    <tr>\n",
       "      <th>0</th>\n",
       "      <td>697</td>\n",
       "      <td>Zero</td>\n",
       "      <td>71+</td>\n",
       "      <td>Partner</td>\n",
       "      <td>Retired</td>\n",
       "      <td>Housewife</td>\n",
       "      <td>Own Home</td>\n",
       "      <td>&lt;12,500, &gt;=10,000</td>\n",
       "      <td>No</td>\n",
       "      <td>No</td>\n",
       "      <td>...</td>\n",
       "      <td>45.97</td>\n",
       "      <td>0.00</td>\n",
       "      <td>0.00</td>\n",
       "      <td>0.00</td>\n",
       "      <td>Male</td>\n",
       "      <td>South West</td>\n",
       "      <td>40.48</td>\n",
       "      <td>15.07</td>\n",
       "      <td>28.40</td>\n",
       "      <td>83.05</td>\n",
       "    </tr>\n",
       "    <tr>\n",
       "      <th>1</th>\n",
       "      <td>7897</td>\n",
       "      <td>Zero</td>\n",
       "      <td>31-35</td>\n",
       "      <td>Partner</td>\n",
       "      <td>Unknown</td>\n",
       "      <td>Business Manager</td>\n",
       "      <td>Own Home</td>\n",
       "      <td>&gt;=35,000</td>\n",
       "      <td>No</td>\n",
       "      <td>No</td>\n",
       "      <td>...</td>\n",
       "      <td>133.88</td>\n",
       "      <td>27.45</td>\n",
       "      <td>13.47</td>\n",
       "      <td>57.46</td>\n",
       "      <td>Male</td>\n",
       "      <td>South East</td>\n",
       "      <td>27.07</td>\n",
       "      <td>72.01</td>\n",
       "      <td>82.74</td>\n",
       "      <td>235.29</td>\n",
       "    </tr>\n",
       "    <tr>\n",
       "      <th>2</th>\n",
       "      <td>4729</td>\n",
       "      <td>Zero</td>\n",
       "      <td>71+</td>\n",
       "      <td>Partner</td>\n",
       "      <td>Housewife</td>\n",
       "      <td>Retired</td>\n",
       "      <td>Own Home</td>\n",
       "      <td>&lt;15,000, &gt;=12,500</td>\n",
       "      <td>No</td>\n",
       "      <td>No</td>\n",
       "      <td>...</td>\n",
       "      <td>107.88</td>\n",
       "      <td>0.00</td>\n",
       "      <td>0.00</td>\n",
       "      <td>0.00</td>\n",
       "      <td>Female</td>\n",
       "      <td>South West</td>\n",
       "      <td>44.39</td>\n",
       "      <td>32.62</td>\n",
       "      <td>43.86</td>\n",
       "      <td>98.38</td>\n",
       "    </tr>\n",
       "    <tr>\n",
       "      <th>3</th>\n",
       "      <td>6914</td>\n",
       "      <td>1</td>\n",
       "      <td>22-25</td>\n",
       "      <td>Partner</td>\n",
       "      <td>Other</td>\n",
       "      <td>Other</td>\n",
       "      <td>Own Home</td>\n",
       "      <td>&lt;17,500, &gt;=15,000</td>\n",
       "      <td>No</td>\n",
       "      <td>No</td>\n",
       "      <td>...</td>\n",
       "      <td>44.96</td>\n",
       "      <td>0.00</td>\n",
       "      <td>0.00</td>\n",
       "      <td>0.00</td>\n",
       "      <td>Female</td>\n",
       "      <td>Scotland</td>\n",
       "      <td>21.59</td>\n",
       "      <td>24.57</td>\n",
       "      <td>29.23</td>\n",
       "      <td>86.32</td>\n",
       "    </tr>\n",
       "    <tr>\n",
       "      <th>4</th>\n",
       "      <td>2795</td>\n",
       "      <td>Zero</td>\n",
       "      <td>65-70</td>\n",
       "      <td>Widowed</td>\n",
       "      <td>Retired</td>\n",
       "      <td>Unknown</td>\n",
       "      <td>Own Home</td>\n",
       "      <td>&lt; 4,000</td>\n",
       "      <td>No</td>\n",
       "      <td>No</td>\n",
       "      <td>...</td>\n",
       "      <td>33.96</td>\n",
       "      <td>6.99</td>\n",
       "      <td>17.93</td>\n",
       "      <td>5.45</td>\n",
       "      <td>Female</td>\n",
       "      <td>South East</td>\n",
       "      <td>53.66</td>\n",
       "      <td>16.22</td>\n",
       "      <td>32.89</td>\n",
       "      <td>102.99</td>\n",
       "    </tr>\n",
       "    <tr>\n",
       "      <th>...</th>\n",
       "      <td>...</td>\n",
       "      <td>...</td>\n",
       "      <td>...</td>\n",
       "      <td>...</td>\n",
       "      <td>...</td>\n",
       "      <td>...</td>\n",
       "      <td>...</td>\n",
       "      <td>...</td>\n",
       "      <td>...</td>\n",
       "      <td>...</td>\n",
       "      <td>...</td>\n",
       "      <td>...</td>\n",
       "      <td>...</td>\n",
       "      <td>...</td>\n",
       "      <td>...</td>\n",
       "      <td>...</td>\n",
       "      <td>...</td>\n",
       "      <td>...</td>\n",
       "      <td>...</td>\n",
       "      <td>...</td>\n",
       "      <td>...</td>\n",
       "    </tr>\n",
       "    <tr>\n",
       "      <th>2026</th>\n",
       "      <td>4952</td>\n",
       "      <td>Zero</td>\n",
       "      <td>41-45</td>\n",
       "      <td>Partner</td>\n",
       "      <td>Manual Worker</td>\n",
       "      <td>Manual Worker</td>\n",
       "      <td>Own Home</td>\n",
       "      <td>&lt;27,500, &gt;=25,000</td>\n",
       "      <td>No</td>\n",
       "      <td>No</td>\n",
       "      <td>...</td>\n",
       "      <td>0.00</td>\n",
       "      <td>0.00</td>\n",
       "      <td>0.00</td>\n",
       "      <td>0.00</td>\n",
       "      <td>Male</td>\n",
       "      <td>North West</td>\n",
       "      <td>6.80</td>\n",
       "      <td>1.66</td>\n",
       "      <td>7.33</td>\n",
       "      <td>17.16</td>\n",
       "    </tr>\n",
       "    <tr>\n",
       "      <th>2027</th>\n",
       "      <td>7348</td>\n",
       "      <td>Zero</td>\n",
       "      <td>65-70</td>\n",
       "      <td>Divorced/Separated</td>\n",
       "      <td>Retired</td>\n",
       "      <td>Unknown</td>\n",
       "      <td>Own Home</td>\n",
       "      <td>&lt;10,000, &gt;= 8,000</td>\n",
       "      <td>No</td>\n",
       "      <td>No</td>\n",
       "      <td>...</td>\n",
       "      <td>265.80</td>\n",
       "      <td>11.48</td>\n",
       "      <td>27.96</td>\n",
       "      <td>68.92</td>\n",
       "      <td>Female</td>\n",
       "      <td>North West</td>\n",
       "      <td>21.29</td>\n",
       "      <td>74.59</td>\n",
       "      <td>64.86</td>\n",
       "      <td>170.49</td>\n",
       "    </tr>\n",
       "    <tr>\n",
       "      <th>2028</th>\n",
       "      <td>3903</td>\n",
       "      <td>Zero</td>\n",
       "      <td>45-50</td>\n",
       "      <td>Partner</td>\n",
       "      <td>Secretarial/Admin</td>\n",
       "      <td>Professional</td>\n",
       "      <td>Own Home</td>\n",
       "      <td>&lt;25,000, &gt;=22,500</td>\n",
       "      <td>No</td>\n",
       "      <td>Yes</td>\n",
       "      <td>...</td>\n",
       "      <td>39.98</td>\n",
       "      <td>46.43</td>\n",
       "      <td>8.98</td>\n",
       "      <td>27.93</td>\n",
       "      <td>Female</td>\n",
       "      <td>South West</td>\n",
       "      <td>26.19</td>\n",
       "      <td>32.20</td>\n",
       "      <td>33.80</td>\n",
       "      <td>103.54</td>\n",
       "    </tr>\n",
       "    <tr>\n",
       "      <th>2029</th>\n",
       "      <td>4767</td>\n",
       "      <td>Zero</td>\n",
       "      <td>Unknown</td>\n",
       "      <td>Unknown</td>\n",
       "      <td>Unknown</td>\n",
       "      <td>Unknown</td>\n",
       "      <td>Unclassified</td>\n",
       "      <td>Unknown</td>\n",
       "      <td>No</td>\n",
       "      <td>No</td>\n",
       "      <td>...</td>\n",
       "      <td>0.00</td>\n",
       "      <td>0.00</td>\n",
       "      <td>0.00</td>\n",
       "      <td>1407.45</td>\n",
       "      <td>Female</td>\n",
       "      <td>East Anglia</td>\n",
       "      <td>0.00</td>\n",
       "      <td>234.58</td>\n",
       "      <td>0.00</td>\n",
       "      <td>224.67</td>\n",
       "    </tr>\n",
       "    <tr>\n",
       "      <th>2030</th>\n",
       "      <td>5208</td>\n",
       "      <td>1</td>\n",
       "      <td>51-55</td>\n",
       "      <td>Partner</td>\n",
       "      <td>Business Manager</td>\n",
       "      <td>Retired</td>\n",
       "      <td>Own Home</td>\n",
       "      <td>&lt;25,000, &gt;=22,500</td>\n",
       "      <td>No</td>\n",
       "      <td>No</td>\n",
       "      <td>...</td>\n",
       "      <td>35.48</td>\n",
       "      <td>14.48</td>\n",
       "      <td>0.00</td>\n",
       "      <td>7.99</td>\n",
       "      <td>Female</td>\n",
       "      <td>West Midlands</td>\n",
       "      <td>2.50</td>\n",
       "      <td>17.56</td>\n",
       "      <td>18.31</td>\n",
       "      <td>37.54</td>\n",
       "    </tr>\n",
       "  </tbody>\n",
       "</table>\n",
       "<p>2031 rows × 31 columns</p>\n",
       "</div>"
      ],
      "text/plain": [
       "      REF_NO children age_band              status         occupation  \\\n",
       "0        697     Zero      71+             Partner            Retired   \n",
       "1       7897     Zero    31-35             Partner            Unknown   \n",
       "2       4729     Zero      71+             Partner          Housewife   \n",
       "3       6914        1    22-25             Partner              Other   \n",
       "4       2795     Zero    65-70             Widowed            Retired   \n",
       "...      ...      ...      ...                 ...                ...   \n",
       "2026    4952     Zero    41-45             Partner      Manual Worker   \n",
       "2027    7348     Zero    65-70  Divorced/Separated            Retired   \n",
       "2028    3903     Zero    45-50             Partner  Secretarial/Admin   \n",
       "2029    4767     Zero  Unknown             Unknown            Unknown   \n",
       "2030    5208        1    51-55             Partner   Business Manager   \n",
       "\n",
       "     occupation_partner   home_status      family_income self_employed  \\\n",
       "0             Housewife      Own Home  <12,500, >=10,000            No   \n",
       "1      Business Manager      Own Home           >=35,000            No   \n",
       "2               Retired      Own Home  <15,000, >=12,500            No   \n",
       "3                 Other      Own Home  <17,500, >=15,000            No   \n",
       "4               Unknown      Own Home            < 4,000            No   \n",
       "...                 ...           ...                ...           ...   \n",
       "2026      Manual Worker      Own Home  <27,500, >=25,000            No   \n",
       "2027            Unknown      Own Home  <10,000, >= 8,000            No   \n",
       "2028       Professional      Own Home  <25,000, >=22,500            No   \n",
       "2029            Unknown  Unclassified            Unknown            No   \n",
       "2030            Retired      Own Home  <25,000, >=22,500            No   \n",
       "\n",
       "     self_employed_partner  ...  Investment_in_Mutual_Fund  \\\n",
       "0                       No  ...                      45.97   \n",
       "1                       No  ...                     133.88   \n",
       "2                       No  ...                     107.88   \n",
       "3                       No  ...                      44.96   \n",
       "4                       No  ...                      33.96   \n",
       "...                    ...  ...                        ...   \n",
       "2026                    No  ...                       0.00   \n",
       "2027                    No  ...                     265.80   \n",
       "2028                   Yes  ...                      39.98   \n",
       "2029                    No  ...                       0.00   \n",
       "2030                    No  ...                      35.48   \n",
       "\n",
       "     Investment_Tax_Saving_Bond Home_Loan Online_Purchase_Amount  gender  \\\n",
       "0                          0.00      0.00                   0.00    Male   \n",
       "1                         27.45     13.47                  57.46    Male   \n",
       "2                          0.00      0.00                   0.00  Female   \n",
       "3                          0.00      0.00                   0.00  Female   \n",
       "4                          6.99     17.93                   5.45  Female   \n",
       "...                         ...       ...                    ...     ...   \n",
       "2026                       0.00      0.00                   0.00    Male   \n",
       "2027                      11.48     27.96                  68.92  Female   \n",
       "2028                      46.43      8.98                  27.93  Female   \n",
       "2029                       0.00      0.00                1407.45  Female   \n",
       "2030                      14.48      0.00                   7.99  Female   \n",
       "\n",
       "             region  Investment_in_Commudity  Investment_in_Equity  \\\n",
       "0        South West                    40.48                 15.07   \n",
       "1        South East                    27.07                 72.01   \n",
       "2        South West                    44.39                 32.62   \n",
       "3          Scotland                    21.59                 24.57   \n",
       "4        South East                    53.66                 16.22   \n",
       "...             ...                      ...                   ...   \n",
       "2026     North West                     6.80                  1.66   \n",
       "2027     North West                    21.29                 74.59   \n",
       "2028     South West                    26.19                 32.20   \n",
       "2029    East Anglia                     0.00                234.58   \n",
       "2030  West Midlands                     2.50                 17.56   \n",
       "\n",
       "      Investment_in_Derivative  Portfolio_Balance  \n",
       "0                        28.40              83.05  \n",
       "1                        82.74             235.29  \n",
       "2                        43.86              98.38  \n",
       "3                        29.23              86.32  \n",
       "4                        32.89             102.99  \n",
       "...                        ...                ...  \n",
       "2026                      7.33              17.16  \n",
       "2027                     64.86             170.49  \n",
       "2028                     33.80             103.54  \n",
       "2029                      0.00             224.67  \n",
       "2030                     18.31              37.54  \n",
       "\n",
       "[2031 rows x 31 columns]"
      ]
     },
     "execution_count": 59,
     "metadata": {},
     "output_type": "execute_result"
    }
   ],
   "source": [
    "print('Shape of the Test Dataset: ', data_test.shape)\n",
    "data_test"
   ]
  },
  {
   "cell_type": "markdown",
   "metadata": {},
   "source": [
    "- ## Making the new dataset ready for Machine Learning Model\n",
    "\n",
    "<a name = section901></a>\n",
    "### 9.1 Label Encoding for Categorical Columns (Test Dataset)"
   ]
  },
  {
   "cell_type": "markdown",
   "metadata": {},
   "source": [
    "### Bifurcating the Categorical and Numerical Columns"
   ]
  },
  {
   "cell_type": "code",
   "execution_count": 60,
   "metadata": {},
   "outputs": [],
   "source": [
    "data_test_cat = data_test[['children', 'age_band', 'status', 'occupation',\n",
    "       'occupation_partner', 'home_status', 'family_income', 'self_employed',\n",
    "       'self_employed_partner','TVarea', 'post_code',\n",
    "       'post_area','gender', 'region']]"
   ]
  },
  {
   "cell_type": "code",
   "execution_count": 61,
   "metadata": {},
   "outputs": [],
   "source": [
    "data_test_num = data_test.drop(['children', 'age_band', 'status', 'occupation',\n",
    "       'occupation_partner', 'home_status', 'family_income', 'self_employed',\n",
    "       'self_employed_partner','TVarea', 'post_code',\n",
    "       'post_area','gender', 'region'], axis = 1)"
   ]
  },
  {
   "cell_type": "code",
   "execution_count": 62,
   "metadata": {},
   "outputs": [
    {
     "data": {
      "text/html": [
       "<div>\n",
       "<style scoped>\n",
       "    .dataframe tbody tr th:only-of-type {\n",
       "        vertical-align: middle;\n",
       "    }\n",
       "\n",
       "    .dataframe tbody tr th {\n",
       "        vertical-align: top;\n",
       "    }\n",
       "\n",
       "    .dataframe thead th {\n",
       "        text-align: right;\n",
       "    }\n",
       "</style>\n",
       "<table border=\"1\" class=\"dataframe\">\n",
       "  <thead>\n",
       "    <tr style=\"text-align: right;\">\n",
       "      <th></th>\n",
       "      <th>children</th>\n",
       "      <th>age_band</th>\n",
       "      <th>status</th>\n",
       "      <th>occupation</th>\n",
       "      <th>occupation_partner</th>\n",
       "      <th>home_status</th>\n",
       "      <th>family_income</th>\n",
       "      <th>self_employed</th>\n",
       "      <th>self_employed_partner</th>\n",
       "      <th>TVarea</th>\n",
       "      <th>post_code</th>\n",
       "      <th>post_area</th>\n",
       "      <th>gender</th>\n",
       "      <th>region</th>\n",
       "    </tr>\n",
       "  </thead>\n",
       "  <tbody>\n",
       "    <tr>\n",
       "      <th>0</th>\n",
       "      <td>Zero</td>\n",
       "      <td>71+</td>\n",
       "      <td>Partner</td>\n",
       "      <td>Retired</td>\n",
       "      <td>Housewife</td>\n",
       "      <td>Own Home</td>\n",
       "      <td>&lt;12,500, &gt;=10,000</td>\n",
       "      <td>No</td>\n",
       "      <td>No</td>\n",
       "      <td>Meridian</td>\n",
       "      <td>BH21 2JQ</td>\n",
       "      <td>BH21</td>\n",
       "      <td>Male</td>\n",
       "      <td>South West</td>\n",
       "    </tr>\n",
       "    <tr>\n",
       "      <th>1</th>\n",
       "      <td>Zero</td>\n",
       "      <td>31-35</td>\n",
       "      <td>Partner</td>\n",
       "      <td>Unknown</td>\n",
       "      <td>Business Manager</td>\n",
       "      <td>Own Home</td>\n",
       "      <td>&gt;=35,000</td>\n",
       "      <td>No</td>\n",
       "      <td>No</td>\n",
       "      <td>Anglia</td>\n",
       "      <td>CM6 3QS</td>\n",
       "      <td>CM6</td>\n",
       "      <td>Male</td>\n",
       "      <td>South East</td>\n",
       "    </tr>\n",
       "    <tr>\n",
       "      <th>2</th>\n",
       "      <td>Zero</td>\n",
       "      <td>71+</td>\n",
       "      <td>Partner</td>\n",
       "      <td>Housewife</td>\n",
       "      <td>Retired</td>\n",
       "      <td>Own Home</td>\n",
       "      <td>&lt;15,000, &gt;=12,500</td>\n",
       "      <td>No</td>\n",
       "      <td>No</td>\n",
       "      <td>HTV</td>\n",
       "      <td>BA12 9JW</td>\n",
       "      <td>BA12</td>\n",
       "      <td>Female</td>\n",
       "      <td>South West</td>\n",
       "    </tr>\n",
       "    <tr>\n",
       "      <th>3</th>\n",
       "      <td>1</td>\n",
       "      <td>22-25</td>\n",
       "      <td>Partner</td>\n",
       "      <td>Other</td>\n",
       "      <td>Other</td>\n",
       "      <td>Own Home</td>\n",
       "      <td>&lt;17,500, &gt;=15,000</td>\n",
       "      <td>No</td>\n",
       "      <td>No</td>\n",
       "      <td>Grampian</td>\n",
       "      <td>AB22 8SP</td>\n",
       "      <td>AB22</td>\n",
       "      <td>Female</td>\n",
       "      <td>Scotland</td>\n",
       "    </tr>\n",
       "    <tr>\n",
       "      <th>4</th>\n",
       "      <td>Zero</td>\n",
       "      <td>65-70</td>\n",
       "      <td>Widowed</td>\n",
       "      <td>Retired</td>\n",
       "      <td>Unknown</td>\n",
       "      <td>Own Home</td>\n",
       "      <td>&lt; 4,000</td>\n",
       "      <td>No</td>\n",
       "      <td>No</td>\n",
       "      <td>Meridian</td>\n",
       "      <td>PO37 6AD</td>\n",
       "      <td>PO37</td>\n",
       "      <td>Female</td>\n",
       "      <td>South East</td>\n",
       "    </tr>\n",
       "    <tr>\n",
       "      <th>...</th>\n",
       "      <td>...</td>\n",
       "      <td>...</td>\n",
       "      <td>...</td>\n",
       "      <td>...</td>\n",
       "      <td>...</td>\n",
       "      <td>...</td>\n",
       "      <td>...</td>\n",
       "      <td>...</td>\n",
       "      <td>...</td>\n",
       "      <td>...</td>\n",
       "      <td>...</td>\n",
       "      <td>...</td>\n",
       "      <td>...</td>\n",
       "      <td>...</td>\n",
       "    </tr>\n",
       "    <tr>\n",
       "      <th>2026</th>\n",
       "      <td>Zero</td>\n",
       "      <td>41-45</td>\n",
       "      <td>Partner</td>\n",
       "      <td>Manual Worker</td>\n",
       "      <td>Manual Worker</td>\n",
       "      <td>Own Home</td>\n",
       "      <td>&lt;27,500, &gt;=25,000</td>\n",
       "      <td>No</td>\n",
       "      <td>No</td>\n",
       "      <td>Meridian</td>\n",
       "      <td>L13 9EZ</td>\n",
       "      <td>L13</td>\n",
       "      <td>Male</td>\n",
       "      <td>North West</td>\n",
       "    </tr>\n",
       "    <tr>\n",
       "      <th>2027</th>\n",
       "      <td>Zero</td>\n",
       "      <td>65-70</td>\n",
       "      <td>Divorced/Separated</td>\n",
       "      <td>Retired</td>\n",
       "      <td>Unknown</td>\n",
       "      <td>Own Home</td>\n",
       "      <td>&lt;10,000, &gt;= 8,000</td>\n",
       "      <td>No</td>\n",
       "      <td>No</td>\n",
       "      <td>Carlton</td>\n",
       "      <td>WA12 2RE</td>\n",
       "      <td>WA12</td>\n",
       "      <td>Female</td>\n",
       "      <td>North West</td>\n",
       "    </tr>\n",
       "    <tr>\n",
       "      <th>2028</th>\n",
       "      <td>Zero</td>\n",
       "      <td>45-50</td>\n",
       "      <td>Partner</td>\n",
       "      <td>Secretarial/Admin</td>\n",
       "      <td>Professional</td>\n",
       "      <td>Own Home</td>\n",
       "      <td>&lt;25,000, &gt;=22,500</td>\n",
       "      <td>No</td>\n",
       "      <td>Yes</td>\n",
       "      <td>TV South West</td>\n",
       "      <td>PL14 3EB</td>\n",
       "      <td>PL14</td>\n",
       "      <td>Female</td>\n",
       "      <td>South West</td>\n",
       "    </tr>\n",
       "    <tr>\n",
       "      <th>2029</th>\n",
       "      <td>Zero</td>\n",
       "      <td>Unknown</td>\n",
       "      <td>Unknown</td>\n",
       "      <td>Unknown</td>\n",
       "      <td>Unknown</td>\n",
       "      <td>Unclassified</td>\n",
       "      <td>Unknown</td>\n",
       "      <td>No</td>\n",
       "      <td>No</td>\n",
       "      <td>Anglia</td>\n",
       "      <td>PE7 3FG</td>\n",
       "      <td>PE7</td>\n",
       "      <td>Female</td>\n",
       "      <td>East Anglia</td>\n",
       "    </tr>\n",
       "    <tr>\n",
       "      <th>2030</th>\n",
       "      <td>1</td>\n",
       "      <td>51-55</td>\n",
       "      <td>Partner</td>\n",
       "      <td>Business Manager</td>\n",
       "      <td>Retired</td>\n",
       "      <td>Own Home</td>\n",
       "      <td>&lt;25,000, &gt;=22,500</td>\n",
       "      <td>No</td>\n",
       "      <td>No</td>\n",
       "      <td>Central</td>\n",
       "      <td>B60 1BU</td>\n",
       "      <td>B60</td>\n",
       "      <td>Female</td>\n",
       "      <td>West Midlands</td>\n",
       "    </tr>\n",
       "  </tbody>\n",
       "</table>\n",
       "<p>2031 rows × 14 columns</p>\n",
       "</div>"
      ],
      "text/plain": [
       "     children age_band              status         occupation  \\\n",
       "0        Zero      71+             Partner            Retired   \n",
       "1        Zero    31-35             Partner            Unknown   \n",
       "2        Zero      71+             Partner          Housewife   \n",
       "3           1    22-25             Partner              Other   \n",
       "4        Zero    65-70             Widowed            Retired   \n",
       "...       ...      ...                 ...                ...   \n",
       "2026     Zero    41-45             Partner      Manual Worker   \n",
       "2027     Zero    65-70  Divorced/Separated            Retired   \n",
       "2028     Zero    45-50             Partner  Secretarial/Admin   \n",
       "2029     Zero  Unknown             Unknown            Unknown   \n",
       "2030        1    51-55             Partner   Business Manager   \n",
       "\n",
       "     occupation_partner   home_status      family_income self_employed  \\\n",
       "0             Housewife      Own Home  <12,500, >=10,000            No   \n",
       "1      Business Manager      Own Home           >=35,000            No   \n",
       "2               Retired      Own Home  <15,000, >=12,500            No   \n",
       "3                 Other      Own Home  <17,500, >=15,000            No   \n",
       "4               Unknown      Own Home            < 4,000            No   \n",
       "...                 ...           ...                ...           ...   \n",
       "2026      Manual Worker      Own Home  <27,500, >=25,000            No   \n",
       "2027            Unknown      Own Home  <10,000, >= 8,000            No   \n",
       "2028       Professional      Own Home  <25,000, >=22,500            No   \n",
       "2029            Unknown  Unclassified            Unknown            No   \n",
       "2030            Retired      Own Home  <25,000, >=22,500            No   \n",
       "\n",
       "     self_employed_partner         TVarea post_code post_area  gender  \\\n",
       "0                       No       Meridian  BH21 2JQ      BH21    Male   \n",
       "1                       No         Anglia   CM6 3QS       CM6    Male   \n",
       "2                       No            HTV  BA12 9JW      BA12  Female   \n",
       "3                       No       Grampian  AB22 8SP      AB22  Female   \n",
       "4                       No       Meridian  PO37 6AD      PO37  Female   \n",
       "...                    ...            ...       ...       ...     ...   \n",
       "2026                    No       Meridian   L13 9EZ       L13    Male   \n",
       "2027                    No        Carlton  WA12 2RE      WA12  Female   \n",
       "2028                   Yes  TV South West  PL14 3EB      PL14  Female   \n",
       "2029                    No         Anglia   PE7 3FG       PE7  Female   \n",
       "2030                    No        Central   B60 1BU       B60  Female   \n",
       "\n",
       "             region  \n",
       "0        South West  \n",
       "1        South East  \n",
       "2        South West  \n",
       "3          Scotland  \n",
       "4        South East  \n",
       "...             ...  \n",
       "2026     North West  \n",
       "2027     North West  \n",
       "2028     South West  \n",
       "2029    East Anglia  \n",
       "2030  West Midlands  \n",
       "\n",
       "[2031 rows x 14 columns]"
      ]
     },
     "execution_count": 62,
     "metadata": {},
     "output_type": "execute_result"
    }
   ],
   "source": [
    "data_test_cat"
   ]
  },
  {
   "cell_type": "markdown",
   "metadata": {},
   "source": [
    "- ### Label Encoding the categorical columns"
   ]
  },
  {
   "cell_type": "code",
   "execution_count": 63,
   "metadata": {},
   "outputs": [],
   "source": [
    "data_test_cat = data_test_cat.apply(LabelEncoder().fit_transform)"
   ]
  },
  {
   "cell_type": "code",
   "execution_count": 64,
   "metadata": {},
   "outputs": [
    {
     "data": {
      "text/html": [
       "<div>\n",
       "<style scoped>\n",
       "    .dataframe tbody tr th:only-of-type {\n",
       "        vertical-align: middle;\n",
       "    }\n",
       "\n",
       "    .dataframe tbody tr th {\n",
       "        vertical-align: top;\n",
       "    }\n",
       "\n",
       "    .dataframe thead th {\n",
       "        text-align: right;\n",
       "    }\n",
       "</style>\n",
       "<table border=\"1\" class=\"dataframe\">\n",
       "  <thead>\n",
       "    <tr style=\"text-align: right;\">\n",
       "      <th></th>\n",
       "      <th>children</th>\n",
       "      <th>age_band</th>\n",
       "      <th>status</th>\n",
       "      <th>occupation</th>\n",
       "      <th>occupation_partner</th>\n",
       "      <th>home_status</th>\n",
       "      <th>family_income</th>\n",
       "      <th>self_employed</th>\n",
       "      <th>self_employed_partner</th>\n",
       "      <th>TVarea</th>\n",
       "      <th>post_code</th>\n",
       "      <th>post_area</th>\n",
       "      <th>gender</th>\n",
       "      <th>region</th>\n",
       "    </tr>\n",
       "  </thead>\n",
       "  <tbody>\n",
       "    <tr>\n",
       "      <th>0</th>\n",
       "      <td>4</td>\n",
       "      <td>11</td>\n",
       "      <td>1</td>\n",
       "      <td>5</td>\n",
       "      <td>1</td>\n",
       "      <td>1</td>\n",
       "      <td>3</td>\n",
       "      <td>0</td>\n",
       "      <td>0</td>\n",
       "      <td>7</td>\n",
       "      <td>146</td>\n",
       "      <td>82</td>\n",
       "      <td>1</td>\n",
       "      <td>8</td>\n",
       "    </tr>\n",
       "    <tr>\n",
       "      <th>1</th>\n",
       "      <td>4</td>\n",
       "      <td>3</td>\n",
       "      <td>1</td>\n",
       "      <td>8</td>\n",
       "      <td>0</td>\n",
       "      <td>1</td>\n",
       "      <td>11</td>\n",
       "      <td>0</td>\n",
       "      <td>0</td>\n",
       "      <td>0</td>\n",
       "      <td>322</td>\n",
       "      <td>184</td>\n",
       "      <td>1</td>\n",
       "      <td>7</td>\n",
       "    </tr>\n",
       "    <tr>\n",
       "      <th>2</th>\n",
       "      <td>4</td>\n",
       "      <td>11</td>\n",
       "      <td>1</td>\n",
       "      <td>1</td>\n",
       "      <td>5</td>\n",
       "      <td>1</td>\n",
       "      <td>4</td>\n",
       "      <td>0</td>\n",
       "      <td>0</td>\n",
       "      <td>6</td>\n",
       "      <td>79</td>\n",
       "      <td>46</td>\n",
       "      <td>0</td>\n",
       "      <td>8</td>\n",
       "    </tr>\n",
       "    <tr>\n",
       "      <th>3</th>\n",
       "      <td>0</td>\n",
       "      <td>1</td>\n",
       "      <td>1</td>\n",
       "      <td>3</td>\n",
       "      <td>3</td>\n",
       "      <td>1</td>\n",
       "      <td>5</td>\n",
       "      <td>0</td>\n",
       "      <td>0</td>\n",
       "      <td>4</td>\n",
       "      <td>4</td>\n",
       "      <td>3</td>\n",
       "      <td>0</td>\n",
       "      <td>6</td>\n",
       "    </tr>\n",
       "    <tr>\n",
       "      <th>4</th>\n",
       "      <td>4</td>\n",
       "      <td>10</td>\n",
       "      <td>4</td>\n",
       "      <td>5</td>\n",
       "      <td>8</td>\n",
       "      <td>1</td>\n",
       "      <td>0</td>\n",
       "      <td>0</td>\n",
       "      <td>0</td>\n",
       "      <td>7</td>\n",
       "      <td>1474</td>\n",
       "      <td>825</td>\n",
       "      <td>0</td>\n",
       "      <td>7</td>\n",
       "    </tr>\n",
       "    <tr>\n",
       "      <th>...</th>\n",
       "      <td>...</td>\n",
       "      <td>...</td>\n",
       "      <td>...</td>\n",
       "      <td>...</td>\n",
       "      <td>...</td>\n",
       "      <td>...</td>\n",
       "      <td>...</td>\n",
       "      <td>...</td>\n",
       "      <td>...</td>\n",
       "      <td>...</td>\n",
       "      <td>...</td>\n",
       "      <td>...</td>\n",
       "      <td>...</td>\n",
       "      <td>...</td>\n",
       "    </tr>\n",
       "    <tr>\n",
       "      <th>2026</th>\n",
       "      <td>4</td>\n",
       "      <td>5</td>\n",
       "      <td>1</td>\n",
       "      <td>2</td>\n",
       "      <td>2</td>\n",
       "      <td>1</td>\n",
       "      <td>9</td>\n",
       "      <td>0</td>\n",
       "      <td>0</td>\n",
       "      <td>7</td>\n",
       "      <td>897</td>\n",
       "      <td>522</td>\n",
       "      <td>1</td>\n",
       "      <td>4</td>\n",
       "    </tr>\n",
       "    <tr>\n",
       "      <th>2027</th>\n",
       "      <td>4</td>\n",
       "      <td>10</td>\n",
       "      <td>0</td>\n",
       "      <td>5</td>\n",
       "      <td>8</td>\n",
       "      <td>1</td>\n",
       "      <td>2</td>\n",
       "      <td>0</td>\n",
       "      <td>0</td>\n",
       "      <td>2</td>\n",
       "      <td>1878</td>\n",
       "      <td>1071</td>\n",
       "      <td>0</td>\n",
       "      <td>4</td>\n",
       "    </tr>\n",
       "    <tr>\n",
       "      <th>2028</th>\n",
       "      <td>4</td>\n",
       "      <td>6</td>\n",
       "      <td>1</td>\n",
       "      <td>6</td>\n",
       "      <td>4</td>\n",
       "      <td>1</td>\n",
       "      <td>8</td>\n",
       "      <td>0</td>\n",
       "      <td>1</td>\n",
       "      <td>9</td>\n",
       "      <td>1445</td>\n",
       "      <td>804</td>\n",
       "      <td>0</td>\n",
       "      <td>8</td>\n",
       "    </tr>\n",
       "    <tr>\n",
       "      <th>2029</th>\n",
       "      <td>4</td>\n",
       "      <td>12</td>\n",
       "      <td>3</td>\n",
       "      <td>8</td>\n",
       "      <td>8</td>\n",
       "      <td>4</td>\n",
       "      <td>12</td>\n",
       "      <td>0</td>\n",
       "      <td>0</td>\n",
       "      <td>0</td>\n",
       "      <td>1436</td>\n",
       "      <td>799</td>\n",
       "      <td>0</td>\n",
       "      <td>0</td>\n",
       "    </tr>\n",
       "    <tr>\n",
       "      <th>2030</th>\n",
       "      <td>0</td>\n",
       "      <td>7</td>\n",
       "      <td>1</td>\n",
       "      <td>0</td>\n",
       "      <td>5</td>\n",
       "      <td>1</td>\n",
       "      <td>8</td>\n",
       "      <td>0</td>\n",
       "      <td>0</td>\n",
       "      <td>3</td>\n",
       "      <td>39</td>\n",
       "      <td>27</td>\n",
       "      <td>0</td>\n",
       "      <td>11</td>\n",
       "    </tr>\n",
       "  </tbody>\n",
       "</table>\n",
       "<p>2031 rows × 14 columns</p>\n",
       "</div>"
      ],
      "text/plain": [
       "      children  age_band  status  occupation  occupation_partner  home_status  \\\n",
       "0            4        11       1           5                   1            1   \n",
       "1            4         3       1           8                   0            1   \n",
       "2            4        11       1           1                   5            1   \n",
       "3            0         1       1           3                   3            1   \n",
       "4            4        10       4           5                   8            1   \n",
       "...        ...       ...     ...         ...                 ...          ...   \n",
       "2026         4         5       1           2                   2            1   \n",
       "2027         4        10       0           5                   8            1   \n",
       "2028         4         6       1           6                   4            1   \n",
       "2029         4        12       3           8                   8            4   \n",
       "2030         0         7       1           0                   5            1   \n",
       "\n",
       "      family_income  self_employed  self_employed_partner  TVarea  post_code  \\\n",
       "0                 3              0                      0       7        146   \n",
       "1                11              0                      0       0        322   \n",
       "2                 4              0                      0       6         79   \n",
       "3                 5              0                      0       4          4   \n",
       "4                 0              0                      0       7       1474   \n",
       "...             ...            ...                    ...     ...        ...   \n",
       "2026              9              0                      0       7        897   \n",
       "2027              2              0                      0       2       1878   \n",
       "2028              8              0                      1       9       1445   \n",
       "2029             12              0                      0       0       1436   \n",
       "2030              8              0                      0       3         39   \n",
       "\n",
       "      post_area  gender  region  \n",
       "0            82       1       8  \n",
       "1           184       1       7  \n",
       "2            46       0       8  \n",
       "3             3       0       6  \n",
       "4           825       0       7  \n",
       "...         ...     ...     ...  \n",
       "2026        522       1       4  \n",
       "2027       1071       0       4  \n",
       "2028        804       0       8  \n",
       "2029        799       0       0  \n",
       "2030         27       0      11  \n",
       "\n",
       "[2031 rows x 14 columns]"
      ]
     },
     "execution_count": 64,
     "metadata": {},
     "output_type": "execute_result"
    }
   ],
   "source": [
    "data_test_cat"
   ]
  },
  {
   "cell_type": "markdown",
   "metadata": {},
   "source": [
    "- ### Combining the Labelled columns and Numerical Columns"
   ]
  },
  {
   "cell_type": "code",
   "execution_count": 65,
   "metadata": {},
   "outputs": [],
   "source": [
    "data_test_final = pd.concat([data_test_cat, data_test_num], axis = 1)"
   ]
  },
  {
   "cell_type": "code",
   "execution_count": 66,
   "metadata": {},
   "outputs": [
    {
     "data": {
      "text/html": [
       "<div>\n",
       "<style scoped>\n",
       "    .dataframe tbody tr th:only-of-type {\n",
       "        vertical-align: middle;\n",
       "    }\n",
       "\n",
       "    .dataframe tbody tr th {\n",
       "        vertical-align: top;\n",
       "    }\n",
       "\n",
       "    .dataframe thead th {\n",
       "        text-align: right;\n",
       "    }\n",
       "</style>\n",
       "<table border=\"1\" class=\"dataframe\">\n",
       "  <thead>\n",
       "    <tr style=\"text-align: right;\">\n",
       "      <th></th>\n",
       "      <th>children</th>\n",
       "      <th>age_band</th>\n",
       "      <th>status</th>\n",
       "      <th>occupation</th>\n",
       "      <th>occupation_partner</th>\n",
       "      <th>home_status</th>\n",
       "      <th>family_income</th>\n",
       "      <th>self_employed</th>\n",
       "      <th>self_employed_partner</th>\n",
       "      <th>TVarea</th>\n",
       "      <th>...</th>\n",
       "      <th>Average_A/C_Balance</th>\n",
       "      <th>Personal_Loan</th>\n",
       "      <th>Investment_in_Mutual_Fund</th>\n",
       "      <th>Investment_Tax_Saving_Bond</th>\n",
       "      <th>Home_Loan</th>\n",
       "      <th>Online_Purchase_Amount</th>\n",
       "      <th>Investment_in_Commudity</th>\n",
       "      <th>Investment_in_Equity</th>\n",
       "      <th>Investment_in_Derivative</th>\n",
       "      <th>Portfolio_Balance</th>\n",
       "    </tr>\n",
       "  </thead>\n",
       "  <tbody>\n",
       "    <tr>\n",
       "      <th>0</th>\n",
       "      <td>4</td>\n",
       "      <td>11</td>\n",
       "      <td>1</td>\n",
       "      <td>5</td>\n",
       "      <td>1</td>\n",
       "      <td>1</td>\n",
       "      <td>3</td>\n",
       "      <td>0</td>\n",
       "      <td>0</td>\n",
       "      <td>7</td>\n",
       "      <td>...</td>\n",
       "      <td>44.47</td>\n",
       "      <td>0.00</td>\n",
       "      <td>45.97</td>\n",
       "      <td>0.00</td>\n",
       "      <td>0.00</td>\n",
       "      <td>0.00</td>\n",
       "      <td>40.48</td>\n",
       "      <td>15.07</td>\n",
       "      <td>28.40</td>\n",
       "      <td>83.05</td>\n",
       "    </tr>\n",
       "    <tr>\n",
       "      <th>1</th>\n",
       "      <td>4</td>\n",
       "      <td>3</td>\n",
       "      <td>1</td>\n",
       "      <td>8</td>\n",
       "      <td>0</td>\n",
       "      <td>1</td>\n",
       "      <td>11</td>\n",
       "      <td>0</td>\n",
       "      <td>0</td>\n",
       "      <td>0</td>\n",
       "      <td>...</td>\n",
       "      <td>29.49</td>\n",
       "      <td>170.31</td>\n",
       "      <td>133.88</td>\n",
       "      <td>27.45</td>\n",
       "      <td>13.47</td>\n",
       "      <td>57.46</td>\n",
       "      <td>27.07</td>\n",
       "      <td>72.01</td>\n",
       "      <td>82.74</td>\n",
       "      <td>235.29</td>\n",
       "    </tr>\n",
       "  </tbody>\n",
       "</table>\n",
       "<p>2 rows × 31 columns</p>\n",
       "</div>"
      ],
      "text/plain": [
       "   children  age_band  status  occupation  occupation_partner  home_status  \\\n",
       "0         4        11       1           5                   1            1   \n",
       "1         4         3       1           8                   0            1   \n",
       "\n",
       "   family_income  self_employed  self_employed_partner  TVarea  ...  \\\n",
       "0              3              0                      0       7  ...   \n",
       "1             11              0                      0       0  ...   \n",
       "\n",
       "   Average_A/C_Balance  Personal_Loan  Investment_in_Mutual_Fund  \\\n",
       "0                44.47           0.00                      45.97   \n",
       "1                29.49         170.31                     133.88   \n",
       "\n",
       "   Investment_Tax_Saving_Bond  Home_Loan  Online_Purchase_Amount  \\\n",
       "0                        0.00       0.00                    0.00   \n",
       "1                       27.45      13.47                   57.46   \n",
       "\n",
       "   Investment_in_Commudity  Investment_in_Equity  Investment_in_Derivative  \\\n",
       "0                    40.48                 15.07                     28.40   \n",
       "1                    27.07                 72.01                     82.74   \n",
       "\n",
       "   Portfolio_Balance  \n",
       "0              83.05  \n",
       "1             235.29  \n",
       "\n",
       "[2 rows x 31 columns]"
      ]
     },
     "execution_count": 66,
     "metadata": {},
     "output_type": "execute_result"
    }
   ],
   "source": [
    "data_test_final.head(2)"
   ]
  },
  {
   "cell_type": "code",
   "execution_count": 67,
   "metadata": {},
   "outputs": [],
   "source": [
    "data_test_final.reset_index(inplace = True)"
   ]
  },
  {
   "cell_type": "markdown",
   "metadata": {},
   "source": [
    "- ### Making 'REF_NO' as index column"
   ]
  },
  {
   "cell_type": "code",
   "execution_count": 68,
   "metadata": {},
   "outputs": [],
   "source": [
    "data_test_final.set_index('REF_NO', inplace = True)"
   ]
  },
  {
   "cell_type": "code",
   "execution_count": 69,
   "metadata": {},
   "outputs": [],
   "source": [
    "data_test_final.drop('index', axis = 1, inplace= True)"
   ]
  },
  {
   "cell_type": "code",
   "execution_count": 70,
   "metadata": {},
   "outputs": [
    {
     "data": {
      "text/html": [
       "<div>\n",
       "<style scoped>\n",
       "    .dataframe tbody tr th:only-of-type {\n",
       "        vertical-align: middle;\n",
       "    }\n",
       "\n",
       "    .dataframe tbody tr th {\n",
       "        vertical-align: top;\n",
       "    }\n",
       "\n",
       "    .dataframe thead th {\n",
       "        text-align: right;\n",
       "    }\n",
       "</style>\n",
       "<table border=\"1\" class=\"dataframe\">\n",
       "  <thead>\n",
       "    <tr style=\"text-align: right;\">\n",
       "      <th></th>\n",
       "      <th>children</th>\n",
       "      <th>age_band</th>\n",
       "      <th>status</th>\n",
       "      <th>occupation</th>\n",
       "      <th>occupation_partner</th>\n",
       "      <th>home_status</th>\n",
       "      <th>family_income</th>\n",
       "      <th>self_employed</th>\n",
       "      <th>self_employed_partner</th>\n",
       "      <th>TVarea</th>\n",
       "      <th>...</th>\n",
       "      <th>Average_A/C_Balance</th>\n",
       "      <th>Personal_Loan</th>\n",
       "      <th>Investment_in_Mutual_Fund</th>\n",
       "      <th>Investment_Tax_Saving_Bond</th>\n",
       "      <th>Home_Loan</th>\n",
       "      <th>Online_Purchase_Amount</th>\n",
       "      <th>Investment_in_Commudity</th>\n",
       "      <th>Investment_in_Equity</th>\n",
       "      <th>Investment_in_Derivative</th>\n",
       "      <th>Portfolio_Balance</th>\n",
       "    </tr>\n",
       "    <tr>\n",
       "      <th>REF_NO</th>\n",
       "      <th></th>\n",
       "      <th></th>\n",
       "      <th></th>\n",
       "      <th></th>\n",
       "      <th></th>\n",
       "      <th></th>\n",
       "      <th></th>\n",
       "      <th></th>\n",
       "      <th></th>\n",
       "      <th></th>\n",
       "      <th></th>\n",
       "      <th></th>\n",
       "      <th></th>\n",
       "      <th></th>\n",
       "      <th></th>\n",
       "      <th></th>\n",
       "      <th></th>\n",
       "      <th></th>\n",
       "      <th></th>\n",
       "      <th></th>\n",
       "      <th></th>\n",
       "    </tr>\n",
       "  </thead>\n",
       "  <tbody>\n",
       "    <tr>\n",
       "      <th>697</th>\n",
       "      <td>4</td>\n",
       "      <td>11</td>\n",
       "      <td>1</td>\n",
       "      <td>5</td>\n",
       "      <td>1</td>\n",
       "      <td>1</td>\n",
       "      <td>3</td>\n",
       "      <td>0</td>\n",
       "      <td>0</td>\n",
       "      <td>7</td>\n",
       "      <td>...</td>\n",
       "      <td>44.47</td>\n",
       "      <td>0.00</td>\n",
       "      <td>45.97</td>\n",
       "      <td>0.00</td>\n",
       "      <td>0.00</td>\n",
       "      <td>0.00</td>\n",
       "      <td>40.48</td>\n",
       "      <td>15.07</td>\n",
       "      <td>28.40</td>\n",
       "      <td>83.05</td>\n",
       "    </tr>\n",
       "    <tr>\n",
       "      <th>7897</th>\n",
       "      <td>4</td>\n",
       "      <td>3</td>\n",
       "      <td>1</td>\n",
       "      <td>8</td>\n",
       "      <td>0</td>\n",
       "      <td>1</td>\n",
       "      <td>11</td>\n",
       "      <td>0</td>\n",
       "      <td>0</td>\n",
       "      <td>0</td>\n",
       "      <td>...</td>\n",
       "      <td>29.49</td>\n",
       "      <td>170.31</td>\n",
       "      <td>133.88</td>\n",
       "      <td>27.45</td>\n",
       "      <td>13.47</td>\n",
       "      <td>57.46</td>\n",
       "      <td>27.07</td>\n",
       "      <td>72.01</td>\n",
       "      <td>82.74</td>\n",
       "      <td>235.29</td>\n",
       "    </tr>\n",
       "  </tbody>\n",
       "</table>\n",
       "<p>2 rows × 30 columns</p>\n",
       "</div>"
      ],
      "text/plain": [
       "        children  age_band  status  occupation  occupation_partner  \\\n",
       "REF_NO                                                               \n",
       "697            4        11       1           5                   1   \n",
       "7897           4         3       1           8                   0   \n",
       "\n",
       "        home_status  family_income  self_employed  self_employed_partner  \\\n",
       "REF_NO                                                                     \n",
       "697               1              3              0                      0   \n",
       "7897              1             11              0                      0   \n",
       "\n",
       "        TVarea  ...  Average_A/C_Balance  Personal_Loan  \\\n",
       "REF_NO          ...                                       \n",
       "697          7  ...                44.47           0.00   \n",
       "7897         0  ...                29.49         170.31   \n",
       "\n",
       "        Investment_in_Mutual_Fund  Investment_Tax_Saving_Bond  Home_Loan  \\\n",
       "REF_NO                                                                     \n",
       "697                         45.97                        0.00       0.00   \n",
       "7897                       133.88                       27.45      13.47   \n",
       "\n",
       "        Online_Purchase_Amount  Investment_in_Commudity  Investment_in_Equity  \\\n",
       "REF_NO                                                                          \n",
       "697                       0.00                    40.48                 15.07   \n",
       "7897                     57.46                    27.07                 72.01   \n",
       "\n",
       "        Investment_in_Derivative  Portfolio_Balance  \n",
       "REF_NO                                               \n",
       "697                        28.40              83.05  \n",
       "7897                       82.74             235.29  \n",
       "\n",
       "[2 rows x 30 columns]"
      ]
     },
     "execution_count": 70,
     "metadata": {},
     "output_type": "execute_result"
    }
   ],
   "source": [
    "data_test_final.head(2)"
   ]
  },
  {
   "cell_type": "code",
   "execution_count": 71,
   "metadata": {},
   "outputs": [],
   "source": [
    "data_test_final.reset_index(inplace = True)"
   ]
  },
  {
   "cell_type": "code",
   "execution_count": 72,
   "metadata": {},
   "outputs": [],
   "source": [
    "data_test_final.set_index('REF_NO', inplace = True)"
   ]
  },
  {
   "cell_type": "code",
   "execution_count": 73,
   "metadata": {},
   "outputs": [],
   "source": [
    "data_test_final.reset_index(inplace=True)"
   ]
  },
  {
   "cell_type": "code",
   "execution_count": 74,
   "metadata": {},
   "outputs": [
    {
     "data": {
      "text/html": [
       "<div>\n",
       "<style scoped>\n",
       "    .dataframe tbody tr th:only-of-type {\n",
       "        vertical-align: middle;\n",
       "    }\n",
       "\n",
       "    .dataframe tbody tr th {\n",
       "        vertical-align: top;\n",
       "    }\n",
       "\n",
       "    .dataframe thead th {\n",
       "        text-align: right;\n",
       "    }\n",
       "</style>\n",
       "<table border=\"1\" class=\"dataframe\">\n",
       "  <thead>\n",
       "    <tr style=\"text-align: right;\">\n",
       "      <th></th>\n",
       "      <th>REF_NO</th>\n",
       "      <th>children</th>\n",
       "      <th>age_band</th>\n",
       "      <th>status</th>\n",
       "      <th>occupation</th>\n",
       "      <th>occupation_partner</th>\n",
       "      <th>home_status</th>\n",
       "      <th>family_income</th>\n",
       "      <th>self_employed</th>\n",
       "      <th>self_employed_partner</th>\n",
       "      <th>...</th>\n",
       "      <th>Average_A/C_Balance</th>\n",
       "      <th>Personal_Loan</th>\n",
       "      <th>Investment_in_Mutual_Fund</th>\n",
       "      <th>Investment_Tax_Saving_Bond</th>\n",
       "      <th>Home_Loan</th>\n",
       "      <th>Online_Purchase_Amount</th>\n",
       "      <th>Investment_in_Commudity</th>\n",
       "      <th>Investment_in_Equity</th>\n",
       "      <th>Investment_in_Derivative</th>\n",
       "      <th>Portfolio_Balance</th>\n",
       "    </tr>\n",
       "  </thead>\n",
       "  <tbody>\n",
       "    <tr>\n",
       "      <th>0</th>\n",
       "      <td>697</td>\n",
       "      <td>4</td>\n",
       "      <td>11</td>\n",
       "      <td>1</td>\n",
       "      <td>5</td>\n",
       "      <td>1</td>\n",
       "      <td>1</td>\n",
       "      <td>3</td>\n",
       "      <td>0</td>\n",
       "      <td>0</td>\n",
       "      <td>...</td>\n",
       "      <td>44.47</td>\n",
       "      <td>0.00</td>\n",
       "      <td>45.97</td>\n",
       "      <td>0.00</td>\n",
       "      <td>0.00</td>\n",
       "      <td>0.00</td>\n",
       "      <td>40.48</td>\n",
       "      <td>15.07</td>\n",
       "      <td>28.40</td>\n",
       "      <td>83.05</td>\n",
       "    </tr>\n",
       "    <tr>\n",
       "      <th>1</th>\n",
       "      <td>7897</td>\n",
       "      <td>4</td>\n",
       "      <td>3</td>\n",
       "      <td>1</td>\n",
       "      <td>8</td>\n",
       "      <td>0</td>\n",
       "      <td>1</td>\n",
       "      <td>11</td>\n",
       "      <td>0</td>\n",
       "      <td>0</td>\n",
       "      <td>...</td>\n",
       "      <td>29.49</td>\n",
       "      <td>170.31</td>\n",
       "      <td>133.88</td>\n",
       "      <td>27.45</td>\n",
       "      <td>13.47</td>\n",
       "      <td>57.46</td>\n",
       "      <td>27.07</td>\n",
       "      <td>72.01</td>\n",
       "      <td>82.74</td>\n",
       "      <td>235.29</td>\n",
       "    </tr>\n",
       "    <tr>\n",
       "      <th>2</th>\n",
       "      <td>4729</td>\n",
       "      <td>4</td>\n",
       "      <td>11</td>\n",
       "      <td>1</td>\n",
       "      <td>1</td>\n",
       "      <td>5</td>\n",
       "      <td>1</td>\n",
       "      <td>4</td>\n",
       "      <td>0</td>\n",
       "      <td>0</td>\n",
       "      <td>...</td>\n",
       "      <td>87.83</td>\n",
       "      <td>0.00</td>\n",
       "      <td>107.88</td>\n",
       "      <td>0.00</td>\n",
       "      <td>0.00</td>\n",
       "      <td>0.00</td>\n",
       "      <td>44.39</td>\n",
       "      <td>32.62</td>\n",
       "      <td>43.86</td>\n",
       "      <td>98.38</td>\n",
       "    </tr>\n",
       "    <tr>\n",
       "      <th>3</th>\n",
       "      <td>6914</td>\n",
       "      <td>0</td>\n",
       "      <td>1</td>\n",
       "      <td>1</td>\n",
       "      <td>3</td>\n",
       "      <td>3</td>\n",
       "      <td>1</td>\n",
       "      <td>5</td>\n",
       "      <td>0</td>\n",
       "      <td>0</td>\n",
       "      <td>...</td>\n",
       "      <td>0.00</td>\n",
       "      <td>102.43</td>\n",
       "      <td>44.96</td>\n",
       "      <td>0.00</td>\n",
       "      <td>0.00</td>\n",
       "      <td>0.00</td>\n",
       "      <td>21.59</td>\n",
       "      <td>24.57</td>\n",
       "      <td>29.23</td>\n",
       "      <td>86.32</td>\n",
       "    </tr>\n",
       "    <tr>\n",
       "      <th>4</th>\n",
       "      <td>2795</td>\n",
       "      <td>4</td>\n",
       "      <td>10</td>\n",
       "      <td>4</td>\n",
       "      <td>5</td>\n",
       "      <td>8</td>\n",
       "      <td>1</td>\n",
       "      <td>0</td>\n",
       "      <td>0</td>\n",
       "      <td>0</td>\n",
       "      <td>...</td>\n",
       "      <td>32.98</td>\n",
       "      <td>0.00</td>\n",
       "      <td>33.96</td>\n",
       "      <td>6.99</td>\n",
       "      <td>17.93</td>\n",
       "      <td>5.45</td>\n",
       "      <td>53.66</td>\n",
       "      <td>16.22</td>\n",
       "      <td>32.89</td>\n",
       "      <td>102.99</td>\n",
       "    </tr>\n",
       "    <tr>\n",
       "      <th>...</th>\n",
       "      <td>...</td>\n",
       "      <td>...</td>\n",
       "      <td>...</td>\n",
       "      <td>...</td>\n",
       "      <td>...</td>\n",
       "      <td>...</td>\n",
       "      <td>...</td>\n",
       "      <td>...</td>\n",
       "      <td>...</td>\n",
       "      <td>...</td>\n",
       "      <td>...</td>\n",
       "      <td>...</td>\n",
       "      <td>...</td>\n",
       "      <td>...</td>\n",
       "      <td>...</td>\n",
       "      <td>...</td>\n",
       "      <td>...</td>\n",
       "      <td>...</td>\n",
       "      <td>...</td>\n",
       "      <td>...</td>\n",
       "      <td>...</td>\n",
       "    </tr>\n",
       "    <tr>\n",
       "      <th>2026</th>\n",
       "      <td>4952</td>\n",
       "      <td>4</td>\n",
       "      <td>5</td>\n",
       "      <td>1</td>\n",
       "      <td>2</td>\n",
       "      <td>2</td>\n",
       "      <td>1</td>\n",
       "      <td>9</td>\n",
       "      <td>0</td>\n",
       "      <td>0</td>\n",
       "      <td>...</td>\n",
       "      <td>9.97</td>\n",
       "      <td>0.00</td>\n",
       "      <td>0.00</td>\n",
       "      <td>0.00</td>\n",
       "      <td>0.00</td>\n",
       "      <td>0.00</td>\n",
       "      <td>6.80</td>\n",
       "      <td>1.66</td>\n",
       "      <td>7.33</td>\n",
       "      <td>17.16</td>\n",
       "    </tr>\n",
       "    <tr>\n",
       "      <th>2027</th>\n",
       "      <td>7348</td>\n",
       "      <td>4</td>\n",
       "      <td>10</td>\n",
       "      <td>0</td>\n",
       "      <td>5</td>\n",
       "      <td>8</td>\n",
       "      <td>1</td>\n",
       "      <td>2</td>\n",
       "      <td>0</td>\n",
       "      <td>0</td>\n",
       "      <td>...</td>\n",
       "      <td>73.40</td>\n",
       "      <td>0.00</td>\n",
       "      <td>265.80</td>\n",
       "      <td>11.48</td>\n",
       "      <td>27.96</td>\n",
       "      <td>68.92</td>\n",
       "      <td>21.29</td>\n",
       "      <td>74.59</td>\n",
       "      <td>64.86</td>\n",
       "      <td>170.49</td>\n",
       "    </tr>\n",
       "    <tr>\n",
       "      <th>2028</th>\n",
       "      <td>3903</td>\n",
       "      <td>4</td>\n",
       "      <td>6</td>\n",
       "      <td>1</td>\n",
       "      <td>6</td>\n",
       "      <td>4</td>\n",
       "      <td>1</td>\n",
       "      <td>8</td>\n",
       "      <td>0</td>\n",
       "      <td>1</td>\n",
       "      <td>...</td>\n",
       "      <td>69.89</td>\n",
       "      <td>0.00</td>\n",
       "      <td>39.98</td>\n",
       "      <td>46.43</td>\n",
       "      <td>8.98</td>\n",
       "      <td>27.93</td>\n",
       "      <td>26.19</td>\n",
       "      <td>32.20</td>\n",
       "      <td>33.80</td>\n",
       "      <td>103.54</td>\n",
       "    </tr>\n",
       "    <tr>\n",
       "      <th>2029</th>\n",
       "      <td>4767</td>\n",
       "      <td>4</td>\n",
       "      <td>12</td>\n",
       "      <td>3</td>\n",
       "      <td>8</td>\n",
       "      <td>8</td>\n",
       "      <td>4</td>\n",
       "      <td>12</td>\n",
       "      <td>0</td>\n",
       "      <td>0</td>\n",
       "      <td>...</td>\n",
       "      <td>0.00</td>\n",
       "      <td>0.00</td>\n",
       "      <td>0.00</td>\n",
       "      <td>0.00</td>\n",
       "      <td>0.00</td>\n",
       "      <td>1407.45</td>\n",
       "      <td>0.00</td>\n",
       "      <td>234.58</td>\n",
       "      <td>0.00</td>\n",
       "      <td>224.67</td>\n",
       "    </tr>\n",
       "    <tr>\n",
       "      <th>2030</th>\n",
       "      <td>5208</td>\n",
       "      <td>0</td>\n",
       "      <td>7</td>\n",
       "      <td>1</td>\n",
       "      <td>0</td>\n",
       "      <td>5</td>\n",
       "      <td>1</td>\n",
       "      <td>8</td>\n",
       "      <td>0</td>\n",
       "      <td>0</td>\n",
       "      <td>...</td>\n",
       "      <td>0.00</td>\n",
       "      <td>47.42</td>\n",
       "      <td>35.48</td>\n",
       "      <td>14.48</td>\n",
       "      <td>0.00</td>\n",
       "      <td>7.99</td>\n",
       "      <td>2.50</td>\n",
       "      <td>17.56</td>\n",
       "      <td>18.31</td>\n",
       "      <td>37.54</td>\n",
       "    </tr>\n",
       "  </tbody>\n",
       "</table>\n",
       "<p>2031 rows × 31 columns</p>\n",
       "</div>"
      ],
      "text/plain": [
       "      REF_NO  children  age_band  status  occupation  occupation_partner  \\\n",
       "0        697         4        11       1           5                   1   \n",
       "1       7897         4         3       1           8                   0   \n",
       "2       4729         4        11       1           1                   5   \n",
       "3       6914         0         1       1           3                   3   \n",
       "4       2795         4        10       4           5                   8   \n",
       "...      ...       ...       ...     ...         ...                 ...   \n",
       "2026    4952         4         5       1           2                   2   \n",
       "2027    7348         4        10       0           5                   8   \n",
       "2028    3903         4         6       1           6                   4   \n",
       "2029    4767         4        12       3           8                   8   \n",
       "2030    5208         0         7       1           0                   5   \n",
       "\n",
       "      home_status  family_income  self_employed  self_employed_partner  ...  \\\n",
       "0               1              3              0                      0  ...   \n",
       "1               1             11              0                      0  ...   \n",
       "2               1              4              0                      0  ...   \n",
       "3               1              5              0                      0  ...   \n",
       "4               1              0              0                      0  ...   \n",
       "...           ...            ...            ...                    ...  ...   \n",
       "2026            1              9              0                      0  ...   \n",
       "2027            1              2              0                      0  ...   \n",
       "2028            1              8              0                      1  ...   \n",
       "2029            4             12              0                      0  ...   \n",
       "2030            1              8              0                      0  ...   \n",
       "\n",
       "      Average_A/C_Balance  Personal_Loan  Investment_in_Mutual_Fund  \\\n",
       "0                   44.47           0.00                      45.97   \n",
       "1                   29.49         170.31                     133.88   \n",
       "2                   87.83           0.00                     107.88   \n",
       "3                    0.00         102.43                      44.96   \n",
       "4                   32.98           0.00                      33.96   \n",
       "...                   ...            ...                        ...   \n",
       "2026                 9.97           0.00                       0.00   \n",
       "2027                73.40           0.00                     265.80   \n",
       "2028                69.89           0.00                      39.98   \n",
       "2029                 0.00           0.00                       0.00   \n",
       "2030                 0.00          47.42                      35.48   \n",
       "\n",
       "      Investment_Tax_Saving_Bond  Home_Loan  Online_Purchase_Amount  \\\n",
       "0                           0.00       0.00                    0.00   \n",
       "1                          27.45      13.47                   57.46   \n",
       "2                           0.00       0.00                    0.00   \n",
       "3                           0.00       0.00                    0.00   \n",
       "4                           6.99      17.93                    5.45   \n",
       "...                          ...        ...                     ...   \n",
       "2026                        0.00       0.00                    0.00   \n",
       "2027                       11.48      27.96                   68.92   \n",
       "2028                       46.43       8.98                   27.93   \n",
       "2029                        0.00       0.00                 1407.45   \n",
       "2030                       14.48       0.00                    7.99   \n",
       "\n",
       "      Investment_in_Commudity  Investment_in_Equity  Investment_in_Derivative  \\\n",
       "0                       40.48                 15.07                     28.40   \n",
       "1                       27.07                 72.01                     82.74   \n",
       "2                       44.39                 32.62                     43.86   \n",
       "3                       21.59                 24.57                     29.23   \n",
       "4                       53.66                 16.22                     32.89   \n",
       "...                       ...                   ...                       ...   \n",
       "2026                     6.80                  1.66                      7.33   \n",
       "2027                    21.29                 74.59                     64.86   \n",
       "2028                    26.19                 32.20                     33.80   \n",
       "2029                     0.00                234.58                      0.00   \n",
       "2030                     2.50                 17.56                     18.31   \n",
       "\n",
       "      Portfolio_Balance  \n",
       "0                 83.05  \n",
       "1                235.29  \n",
       "2                 98.38  \n",
       "3                 86.32  \n",
       "4                102.99  \n",
       "...                 ...  \n",
       "2026              17.16  \n",
       "2027             170.49  \n",
       "2028             103.54  \n",
       "2029             224.67  \n",
       "2030              37.54  \n",
       "\n",
       "[2031 rows x 31 columns]"
      ]
     },
     "execution_count": 74,
     "metadata": {},
     "output_type": "execute_result"
    }
   ],
   "source": [
    "data_test_final"
   ]
  },
  {
   "cell_type": "markdown",
   "metadata": {},
   "source": [
    "<a name = section902></a>\n",
    "### 9.2 Prediction of Revenue_Grid for Test Dataset"
   ]
  },
  {
   "cell_type": "code",
   "execution_count": 76,
   "metadata": {},
   "outputs": [],
   "source": [
    "data_test_pred = logreg.predict(data_test_final)"
   ]
  },
  {
   "cell_type": "code",
   "execution_count": 77,
   "metadata": {},
   "outputs": [
    {
     "data": {
      "text/plain": [
       "array([2, 2, 2, ..., 2, 2, 2], dtype=int64)"
      ]
     },
     "execution_count": 77,
     "metadata": {},
     "output_type": "execute_result"
    }
   ],
   "source": [
    "data_test_pred"
   ]
  },
  {
   "cell_type": "code",
   "execution_count": 78,
   "metadata": {},
   "outputs": [],
   "source": [
    "data_test_pred = pd.DataFrame(data_test_pred)"
   ]
  },
  {
   "cell_type": "code",
   "execution_count": 79,
   "metadata": {},
   "outputs": [
    {
     "data": {
      "text/html": [
       "<div>\n",
       "<style scoped>\n",
       "    .dataframe tbody tr th:only-of-type {\n",
       "        vertical-align: middle;\n",
       "    }\n",
       "\n",
       "    .dataframe tbody tr th {\n",
       "        vertical-align: top;\n",
       "    }\n",
       "\n",
       "    .dataframe thead th {\n",
       "        text-align: right;\n",
       "    }\n",
       "</style>\n",
       "<table border=\"1\" class=\"dataframe\">\n",
       "  <thead>\n",
       "    <tr style=\"text-align: right;\">\n",
       "      <th></th>\n",
       "      <th>0</th>\n",
       "    </tr>\n",
       "  </thead>\n",
       "  <tbody>\n",
       "    <tr>\n",
       "      <th>0</th>\n",
       "      <td>2</td>\n",
       "    </tr>\n",
       "    <tr>\n",
       "      <th>1</th>\n",
       "      <td>2</td>\n",
       "    </tr>\n",
       "    <tr>\n",
       "      <th>2</th>\n",
       "      <td>2</td>\n",
       "    </tr>\n",
       "    <tr>\n",
       "      <th>3</th>\n",
       "      <td>2</td>\n",
       "    </tr>\n",
       "    <tr>\n",
       "      <th>4</th>\n",
       "      <td>2</td>\n",
       "    </tr>\n",
       "    <tr>\n",
       "      <th>...</th>\n",
       "      <td>...</td>\n",
       "    </tr>\n",
       "    <tr>\n",
       "      <th>2026</th>\n",
       "      <td>2</td>\n",
       "    </tr>\n",
       "    <tr>\n",
       "      <th>2027</th>\n",
       "      <td>2</td>\n",
       "    </tr>\n",
       "    <tr>\n",
       "      <th>2028</th>\n",
       "      <td>2</td>\n",
       "    </tr>\n",
       "    <tr>\n",
       "      <th>2029</th>\n",
       "      <td>2</td>\n",
       "    </tr>\n",
       "    <tr>\n",
       "      <th>2030</th>\n",
       "      <td>2</td>\n",
       "    </tr>\n",
       "  </tbody>\n",
       "</table>\n",
       "<p>2031 rows × 1 columns</p>\n",
       "</div>"
      ],
      "text/plain": [
       "      0\n",
       "0     2\n",
       "1     2\n",
       "2     2\n",
       "3     2\n",
       "4     2\n",
       "...  ..\n",
       "2026  2\n",
       "2027  2\n",
       "2028  2\n",
       "2029  2\n",
       "2030  2\n",
       "\n",
       "[2031 rows x 1 columns]"
      ]
     },
     "execution_count": 79,
     "metadata": {},
     "output_type": "execute_result"
    }
   ],
   "source": [
    "data_test_pred"
   ]
  },
  {
   "cell_type": "markdown",
   "metadata": {},
   "source": [
    "<a name = section903></a>\n",
    "### 9.3 Preparation of Submission File"
   ]
  },
  {
   "cell_type": "code",
   "execution_count": 80,
   "metadata": {},
   "outputs": [],
   "source": [
    "submission_file = pd.concat([data_test_final, data_test_pred], axis = 1)"
   ]
  },
  {
   "cell_type": "code",
   "execution_count": 81,
   "metadata": {},
   "outputs": [],
   "source": [
    "submission_file = submission_file[['REF_NO',0]]"
   ]
  },
  {
   "cell_type": "code",
   "execution_count": 83,
   "metadata": {},
   "outputs": [
    {
     "data": {
      "text/plain": [
       "2    1993\n",
       "1      38\n",
       "Name: 0, dtype: int64"
      ]
     },
     "execution_count": 83,
     "metadata": {},
     "output_type": "execute_result"
    }
   ],
   "source": [
    "submission_file[0].value_counts()"
   ]
  },
  {
   "cell_type": "markdown",
   "metadata": {},
   "source": [
    "<a name = section904></a>\n",
    "### 9.4 Saving Excel file "
   ]
  },
  {
   "cell_type": "code",
   "execution_count": 85,
   "metadata": {},
   "outputs": [],
   "source": [
    "submission_file.to_csv(\"Customer_Classification_Submission_File.csv\", index=False, header=False)"
   ]
  }
 ],
 "metadata": {
  "kernelspec": {
   "display_name": "Python 3",
   "language": "python",
   "name": "python3"
  },
  "language_info": {
   "codemirror_mode": {
    "name": "ipython",
    "version": 3
   },
   "file_extension": ".py",
   "mimetype": "text/x-python",
   "name": "python",
   "nbconvert_exporter": "python",
   "pygments_lexer": "ipython3",
   "version": "3.8.5"
  }
 },
 "nbformat": 4,
 "nbformat_minor": 4
}
